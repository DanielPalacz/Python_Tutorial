{
 "cells": [
  {
   "cell_type": "markdown",
   "metadata": {},
   "source": [
    "## Test poprawności środowiska\n",
    "\n",
    "Aby upewnić się, że środowisko zostało skonfigurowane poprawnie uruchom poniższy kod (wejdź do komórki z kodem i wciśnij `Shift+Enter`. Jeśli nie pojawił się błąd - wszystko jest w porządku. W przypadku problemu z importem jakiejś biblioteki pobierz ją za pomocą `pip install <name>` lub `conda install <name>` w terminalu (Linux, Mac) / linii poleceń (Windows)"
   ]
  },
  {
   "cell_type": "code",
   "execution_count": 3,
   "metadata": {},
   "outputs": [],
   "source": [
    "import requests\n",
    "from bs4 import BeautifulSoup\n",
    "import folium\n",
    "from branca.element import Figure"
   ]
  },
  {
   "cell_type": "code",
   "execution_count": 28,
   "metadata": {},
   "outputs": [
    {
     "data": {
      "text/plain": [
       "['BeautifulSoup',\n",
       " 'BeautifulStoneSoup',\n",
       " 'CData',\n",
       " 'Comment',\n",
       " 'Counter',\n",
       " 'DEFAULT_OUTPUT_ENCODING',\n",
       " 'Declaration',\n",
       " 'Doctype',\n",
       " 'FeatureNotFound',\n",
       " 'GuessedAtParserWarning',\n",
       " 'MarkupResemblesLocatorWarning',\n",
       " 'NavigableString',\n",
       " 'PYTHON_SPECIFIC_ENCODINGS',\n",
       " 'PageElement',\n",
       " 'ParserRejectedMarkup',\n",
       " 'ProcessingInstruction',\n",
       " 'ResultSet',\n",
       " 'Script',\n",
       " 'SoupStrainer',\n",
       " 'StopParsing',\n",
       " 'Stylesheet',\n",
       " 'Tag',\n",
       " 'TemplateString',\n",
       " 'UnicodeDammit',\n",
       " '__all__',\n",
       " '__author__',\n",
       " '__builtins__',\n",
       " '__cached__',\n",
       " '__copyright__',\n",
       " '__doc__',\n",
       " '__file__',\n",
       " '__license__',\n",
       " '__loader__',\n",
       " '__name__',\n",
       " '__package__',\n",
       " '__path__',\n",
       " '__spec__',\n",
       " '__version__',\n",
       " '_s',\n",
       " '_soup',\n",
       " 'builder',\n",
       " 'builder_registry',\n",
       " 'dammit',\n",
       " 'element',\n",
       " 'formatter',\n",
       " 'os',\n",
       " 're',\n",
       " 'sys',\n",
       " 'traceback',\n",
       " 'warnings']"
      ]
     },
     "execution_count": 28,
     "metadata": {},
     "output_type": "execute_result"
    }
   ],
   "source": [
    "import bs4\n",
    "dir(bs4)"
   ]
  },
  {
   "cell_type": "markdown",
   "metadata": {},
   "source": [
    "# Jupyter Notebook – wprowadzenie"
   ]
  },
  {
   "cell_type": "markdown",
   "metadata": {},
   "source": [
    "Jupyter Notebook jest narzędziem, które pozwala na tworzenie plików - tzw. notebooków - które łączą w sobie tekst oraz kod. Dobrze nadają się do tworzenia w nich np. raportów czy analiz, w których chcemy zawrzeć zarówno samą analizę jak i objaśnienie. Mogą też służyć do tworzenia eksperymentów oraz szkiców."
   ]
  },
  {
   "cell_type": "code",
   "execution_count": 5,
   "metadata": {},
   "outputs": [
    {
     "name": "stdout",
     "output_type": "stream",
     "text": [
      "hello\n",
      "This function is to show how to use code in Jupyter Notebook\n"
     ]
    }
   ],
   "source": [
    "def test_function(x):\n",
    "    print(x)\n",
    "    print(\"This function is to show how to use code in Jupyter Notebook\")\n",
    "    \n",
    "test_function(\"hello\")"
   ]
  },
  {
   "cell_type": "markdown",
   "metadata": {},
   "source": [
    "Podstawową jednostką treści w JN jest komórka. Komórki z kodem są widoczne jako prostokątne ramki. Komórki z tekstem można zobaczyć klikając dwa razy myszką na tekście."
   ]
  },
  {
   "cell_type": "markdown",
   "metadata": {},
   "source": [
    "## 1. Poruszanie się po notebooku i przydatne skróty klawiszowe"
   ]
  },
  {
   "cell_type": "markdown",
   "metadata": {},
   "source": [
    "Poruszać się po notebooku można z wykorzystaniem samej klawiatury. Wymaga to poznania kilku skrótów klawiszowych, jednak kiedy już je poznamy to praca będzie zdecydowanie szybsza i wygodniejsza.\n",
    "\n",
    "Uruchamianie kodu lub komórek z tekstem, tworzenie nowych komórek, usuwanie ich itd. można wykonywać myszką - służą do tego przyciski w górnym panelu. Jest to jednak niewydajne, dlatego będziemy korzystać ze skrótów klawiszowych. Listę wszystkich skrótów możemy znaleźć klikając w górnym menu `Help -> Keyboard shortcuts`. Jest ich bardzo dużo, dlatego teraz poznamy tylko te najważniejsze, z których będziemy korzystać na codzień.\n",
    "\n",
    "Na początku należy wiedzieć, że JN pracuje w dwóch trybach - trybie edycji (*Edit mode*) oraz trybie poleceń (*Command mode*). Tryb edycji możemy poznać po zielonym pasku po lewej stronie komórki, natomiast tryb poleceń po niebieskim pasku. Różnice między tymi trybami są dość intuicyjne i za chwilę je poznamy.\n",
    "\n",
    "Aby przejść do trybu poleceń naciśnij `Escape`. Aby przejść do trybu edycji naciśnij `Enter`."
   ]
  },
  {
   "cell_type": "markdown",
   "metadata": {},
   "source": [
    "### 1.1 Uruchamianie komórek"
   ]
  },
  {
   "cell_type": "markdown",
   "metadata": {},
   "source": [
    "Aby uruchomić komórkę z kodem lub tekstem należy będąc w niej nacisnąć `Shift + Enter` lub `Control + Enter`. Polecenie działa zarówno w trybie edycji (zielonym) jak i trybie poleceń (niebieskim).\n",
    "\n",
    "Spróbuj uruchomić poniższe komórki obiema komendami i zwróć uwagę na różnicę."
   ]
  },
  {
   "cell_type": "code",
   "execution_count": 17,
   "metadata": {},
   "outputs": [
    {
     "name": "stdout",
     "output_type": "stream",
     "text": [
      "4\n"
     ]
    }
   ],
   "source": [
    "print(2+2)"
   ]
  },
  {
   "cell_type": "code",
   "execution_count": 11,
   "metadata": {},
   "outputs": [
    {
     "name": "stdout",
     "output_type": "stream",
     "text": [
      "hello\n"
     ]
    }
   ],
   "source": [
    "if 2 > 1:\n",
    "    print(\"hello\")"
   ]
  },
  {
   "cell_type": "markdown",
   "metadata": {},
   "source": [
    "### 1.2 Poruszanie się po komórkach oraz tworzenie i usuwanie komórek"
   ]
  },
  {
   "cell_type": "code",
   "execution_count": null,
   "metadata": {},
   "outputs": [],
   "source": []
  },
  {
   "cell_type": "code",
   "execution_count": null,
   "metadata": {},
   "outputs": [],
   "source": []
  },
  {
   "cell_type": "markdown",
   "metadata": {},
   "source": [
    "Aby przejść z jednej komórki do drugiej użyj strzałek będąc w trybie poleceń.\n",
    "\n",
    "Aby dodać nową komórkę wciśnij w trybie poleceń `a` (*above*) lub `b` (*below*)\n",
    "\n",
    "Aby usunąć komórkę wciśnij `x`. Jak myślisz, w jakim trybie należy być aby to polecenie zadziałało? Aby cofnąć usunięcie należy wcisnąć `z`."
   ]
  },
  {
   "cell_type": "markdown",
   "metadata": {},
   "source": [
    "## 2. Tekst (markdown)"
   ]
  },
  {
   "cell_type": "markdown",
   "metadata": {},
   "source": [
    "Komórka w JN może być edytowana w kilka trybach (nie chodzi tu o tryb poleceń oraz tryb edycji tylko o rodzaj zawartości komórki). Najważniejsze są dwa - `Code` oraz `Markdown`. `Code` służy do pisania kodu, natomiast `Markdown` to specjalne formatowanie tekstu, które umożliwia graficzne stylowanie poszczególnych elementów - np. nagłówki, kursywa itp.\n",
    "\n",
    "Każda komórka działa w jednym z tych dwóch trybów (w rzeczywistości jest ich więcej, ale nas interesują te dwa). Przełączać się między nimi możemy za pomocą listy rozwijanej w górnym panelu, poniżej `Widgets` oraz `Help`. Spróbuj zlokalizować tę listę teraz oraz zmienić na próbę typ tej komórki.\n",
    "\n",
    "W praktyce będziemy chcieli przełączać się między trybami za pomocą klawiatury. Są to klawisze `m` dla markdown oraz `y` dla kodu. Musimy się znajdować wówczas w trybie poleceń (kolor niebieski)\n",
    "\n"
   ]
  },
  {
   "cell_type": "markdown",
   "metadata": {},
   "source": [
    "### 2.1 Możliwości trybu markdown"
   ]
  },
  {
   "cell_type": "markdown",
   "metadata": {},
   "source": [
    "Markdown daje nam liczne możliwości pod względem formatowania kodu. Są to na przykład nagłówki, które tworzymy za pomocą znaku `#` na początku linijki. Spróbuj utworzyć nową komórkę poniżej tej i stworzyć nagłówek. Liczba hashy określa poziom nagłówka, a co za tym idzie - wielkość liter."
   ]
  },
  {
   "cell_type": "markdown",
   "metadata": {},
   "source": [
    "# The biggest header\n",
    "\n",
    "## Big header\n",
    "\n",
    "### *Small header*\n",
    "*aaaa*\n",
    "\n",
    "\n",
    "\n",
    "#### The smallest header\n"
   ]
  },
  {
   "cell_type": "markdown",
   "metadata": {},
   "source": [
    "*Możemy pisać kursywą jeśli otoczymy tekst gwiazdkami*"
   ]
  },
  {
   "cell_type": "markdown",
   "metadata": {},
   "source": [
    "**Możemy wyboldować tekst podwójnymi gwiazdkami**"
   ]
  },
  {
   "cell_type": "markdown",
   "metadata": {},
   "source": [
    "`Możemy pisać również w taki sposób`"
   ]
  },
  {
   "cell_type": "markdown",
   "metadata": {},
   "source": [
    "- Możemy\n",
    "- tworzyć\n",
    "- listę\n",
    "- punktów"
   ]
  },
  {
   "cell_type": "markdown",
   "metadata": {},
   "source": [
    "## 3. Kod"
   ]
  },
  {
   "cell_type": "markdown",
   "metadata": {},
   "source": [
    "Pisanie kodu działa podobnie jak w PyCharmie czy innym IDE. Cały notebook działa jak jeden duży plik, który uruchamiamy nie w całości (choć jest i taka możliwość), ale określonymi fragmentami - komórkami. Raz utworzona zmienna jest pamiętana tak długo aż nie zamkniemy notebooka."
   ]
  },
  {
   "cell_type": "code",
   "execution_count": 18,
   "metadata": {},
   "outputs": [],
   "source": [
    "x = 1"
   ]
  },
  {
   "cell_type": "code",
   "execution_count": 19,
   "metadata": {},
   "outputs": [],
   "source": [
    "y = 3"
   ]
  },
  {
   "cell_type": "code",
   "execution_count": 20,
   "metadata": {},
   "outputs": [
    {
     "name": "stdout",
     "output_type": "stream",
     "text": [
      "4\n"
     ]
    }
   ],
   "source": [
    "print(x + y)"
   ]
  },
  {
   "cell_type": "markdown",
   "metadata": {},
   "source": [
    "Pamiętaj, że jeśli wprowadzasz jakieś zmiany w kodzie, to żeby Jupyter odnotował te zmiany, musisz uruchomić komórkę za pomocą np. `Shift Enter`\n",
    "\n",
    "Po lewej stronie od komórek są liczby w kwadratowych nawiasach. Wartość w nawiasie wynika z kolejności w jakiej uruchamiane są komórki z kodem. Może się więc tak wydarzyć, że numeracja nie jest po kolei, jednak nie ma to żadnego znaczenia.\n",
    "\n",
    "Jeśli w komórce z kodem napiszemy jakieś wyrażenie np. matematyczne, ale nie przypiszemy go do żadnej zmiennej, to ono po prostu się wyświetli."
   ]
  },
  {
   "cell_type": "code",
   "execution_count": 21,
   "metadata": {},
   "outputs": [
    {
     "data": {
      "text/plain": [
       "2"
      ]
     },
     "execution_count": 21,
     "metadata": {},
     "output_type": "execute_result"
    }
   ],
   "source": [
    "2 * x"
   ]
  },
  {
   "cell_type": "code",
   "execution_count": 22,
   "metadata": {},
   "outputs": [
    {
     "data": {
      "text/plain": [
       "[1, 4, 3, 5]"
      ]
     },
     "execution_count": 22,
     "metadata": {},
     "output_type": "execute_result"
    }
   ],
   "source": [
    "[1, 4, 3, 5]"
   ]
  },
  {
   "cell_type": "code",
   "execution_count": 23,
   "metadata": {},
   "outputs": [
    {
     "data": {
      "text/plain": [
       "5"
      ]
     },
     "execution_count": 23,
     "metadata": {},
     "output_type": "execute_result"
    }
   ],
   "source": [
    "len(range(5))"
   ]
  },
  {
   "cell_type": "code",
   "execution_count": 24,
   "metadata": {},
   "outputs": [],
   "source": [
    "q = 5"
   ]
  },
  {
   "cell_type": "code",
   "execution_count": 25,
   "metadata": {},
   "outputs": [
    {
     "data": {
      "text/plain": [
       "5"
      ]
     },
     "execution_count": 25,
     "metadata": {},
     "output_type": "execute_result"
    }
   ],
   "source": [
    "q=5\n",
    "q"
   ]
  },
  {
   "cell_type": "markdown",
   "metadata": {},
   "source": [
    "#### Komentarze\n",
    "\n",
    "W Pythonie jest możliwość komentowania kodu, to znaczy dodawania adnotacji, które z punktu widzenia interpretera języka są niezauważalne. Komentarz dodajemy za pomocą znaku `#`"
   ]
  },
  {
   "cell_type": "code",
   "execution_count": 26,
   "metadata": {},
   "outputs": [
    {
     "name": "stdout",
     "output_type": "stream",
     "text": [
      "12\n"
     ]
    }
   ],
   "source": [
    "print(4 * 3)  # ta linijka printuje wynik mnożenia 4 * 3"
   ]
  },
  {
   "cell_type": "markdown",
   "metadata": {},
   "source": [
    "Możesz stosować komentarze w swoim kodzie dla własnej wygody, ale nie nadużywaj ich ponieważ ich nadmiar utrudnia czytanie kodu."
   ]
  },
  {
   "cell_type": "markdown",
   "metadata": {},
   "source": [
    "## 4. Podsumowanie przydatnych skrótów klawiszowych"
   ]
  },
  {
   "cell_type": "markdown",
   "metadata": {},
   "source": [
    "`Shift + Enter`, `Control + Enter` - uruchom komórkę\n",
    "\n",
    "`Escape` - wyjdź do trybu poleceń\n",
    "\n",
    "`Enter` - wejdź do trybu edycji\n",
    "\n",
    "`Arrow Up`, `Arrow Down` - przełączaj się między komórkami"
   ]
  },
  {
   "cell_type": "markdown",
   "metadata": {},
   "source": [
    "`a`, `b` - utwórz komórkę powyżej lub poniżej"
   ]
  },
  {
   "cell_type": "markdown",
   "metadata": {},
   "source": [
    "`m`, `y` - przełącz w tryb markdown lub kod"
   ]
  },
  {
   "cell_type": "markdown",
   "metadata": {},
   "source": [
    "`x` - usuń komórkę"
   ]
  }
 ],
 "metadata": {
  "kernelspec": {
   "display_name": "Python 3",
   "language": "python",
   "name": "python3"
  },
  "language_info": {
   "codemirror_mode": {
    "name": "ipython",
    "version": 3
   },
   "file_extension": ".py",
   "mimetype": "text/x-python",
   "name": "python",
   "nbconvert_exporter": "python",
   "pygments_lexer": "ipython3",
   "version": "3.8.5"
  }
 },
 "nbformat": 4,
 "nbformat_minor": 2
}
