{
 "cells": [
  {
   "cell_type": "code",
   "execution_count": null,
   "metadata": {},
   "outputs": [],
   "source": [
    "from IPython.core.display import display, HTML; display(HTML(\"<style>.container { width:90% !important; }</style>\")) "
   ]
  },
  {
   "cell_type": "markdown",
   "metadata": {},
   "source": [
    "# Praca z JSON API"
   ]
  },
  {
   "cell_type": "markdown",
   "metadata": {},
   "source": [
    "Czym jest API? \n",
    "- API to skrót od Application Programming Interface\n",
    "- w zależności od konkretnego zastosowania może oznaczać trochę coś innego\n",
    "- w naszym przypadku API jest pewną usługą webową, która pozwala pozyskać dane w ustrukturyzowanej postaci z bazy danych do której nie mamy bezpośredniego dostępu\n",
    "- API to rodzaj pośrednika (interface) między bazą danych a naszą aplikacją\n",
    "\n",
    "Jak działa API?\n",
    "- możemy łączyć się z nim poprzez przeglądarkę lub wewnątrz naszego skryptu za pomocą biblioteki `requests`\n",
    "- wysyłamy zapytanie typu `GET` a w odpowiedzi otrzymujemy dane w formacie JSON (czasem może to być również XML, ale tym nie będziemy się zajmować)\n",
    "\n",
    "Czym jest JSON\n",
    "- JavaScript Object Notation\n",
    "- ustrukturyzowana forma zapisu danych\n",
    "- JSON przypomina słownik w Pythonie. Dane przechowywane są na zasadzie klucz-wartość"
   ]
  },
  {
   "cell_type": "markdown",
   "metadata": {},
   "source": [
    "##### Przykład danych w formacie JSON"
   ]
  },
  {
   "cell_type": "code",
   "execution_count": null,
   "metadata": {},
   "outputs": [],
   "source": [
    "{\"employees\": [\n",
    "                {\"id\": 14235, \"name\": \"Bob\", \"date_of_birth\": \"1982-04-15\", \"department\": \"Sales\"},\n",
    "                {\"id\": 28134, \"name\": \"Susan\", \"date_of_birth\": \"1991-09-01\", \"department\": \"IT\"},\n",
    "                ...\n",
    "                {\"id\": 89231, \"name\": \"Andrew\", \"date_of_birth\": \"1990-02-15\", \"department\": \"Sales\"}\n",
    "              ],\n",
    " \"departments\": [\"Sales\", \"IT\", \"HR\"]}"
   ]
  },
  {
   "cell_type": "markdown",
   "metadata": {},
   "source": [
    "## I currencylayer API"
   ]
  },
  {
   "cell_type": "markdown",
   "metadata": {},
   "source": [
    "Można znaleźć wiele darmowych API, które udostępniają dane dotyczące finansów, np. ceny metali szlachetnych czy kursy walut. Jako pierwszy przykład zobaczmy jak działa API currencylayer.\n",
    "\n",
    "Szczegółową dokumentację można znaleźć tutaj -> https://currencylayer.com/documentation . Zamiast tego przejdźmy od razu do przykładu praktycznego żeby zobaczyć o co właściwie chodzi.\n",
    "\n",
    "### 1. Wywołanie API\n",
    "\n",
    "Przykładowe wywołanie API wygląda w następujacy sposób:\n",
    "\n",
    "http://api.currencylayer.com/historical?access_key=bef18344d09a9963fda9d0c8402ace0e&date=2020-12-12&currencies=EUR,PLN&format=1\n",
    "\n",
    "Otwórzmy powyższy link żeby sprawdzić co się stanie.\n",
    "\n",
    "Uwaga: \n",
    "1. Walutą odniesienia jest dolar amerykański. W darmowej wersji API ten parametr jest niemodyfikowalny\n",
    "2. API zwykle mają limity requestów dla danego klucza. Szczegółowe informacje na ten temat powinny znajdować się w dokumentacji. W przypadku currencylayer jest to 250 wywołań na miesiąc (w planie darmowym)\n",
    "\n",
    "### 2. Struktura adresu URL\n",
    "\n",
    "Rozłóżmy URL na czynniki pierwsze:\n",
    "\n",
    "http:// api.currencylayer.com/ historical?access_key= API_KEY &date= DATE &currencies= CURRENCIES_LIST &format=1\n",
    "\n",
    "Nasze zapytanie precyzujemy podając wymagane argumenty. Informacje jak to zrobić możemy znaleźc w dokumentacji API. W tym przypadku potrzebujemy:\n",
    "- klucz API\n",
    "- datę\n",
    "- listę walut jakie nas interesują"
   ]
  },
  {
   "cell_type": "markdown",
   "metadata": {},
   "source": [
    "### 3. Customizacja adresu URL"
   ]
  },
  {
   "cell_type": "code",
   "execution_count": null,
   "metadata": {},
   "outputs": [],
   "source": [
    "API_KEY = # \"bef18344d09a9963fda9d0c8402ace0e\"  # wpisz swój klucz API\n",
    "DATE = \"2019-05-12\"\n",
    "CURRENCIES_LIST = \"EUR,PLN\"\n",
    "\n",
    "\n",
    "my_url = f\"http://api.currencylayer.com/historical?access_key={API_KEY}&date={DATE}&currencies={CURRENCIES_LIST}&format=1\"\n",
    "print(my_url)"
   ]
  },
  {
   "cell_type": "markdown",
   "metadata": {},
   "source": [
    "### 4. W jaki sposób pobrać dane?"
   ]
  },
  {
   "cell_type": "code",
   "execution_count": null,
   "metadata": {},
   "outputs": [],
   "source": [
    "import requests\n",
    "\n",
    "response = requests.get(my_url)\n",
    "response_json = response.json()\n",
    "\n",
    "print(response_json)"
   ]
  },
  {
   "cell_type": "code",
   "execution_count": null,
   "metadata": {},
   "outputs": [],
   "source": [
    "usd_per_pln = response_json[\"quotes\"][\"USDPLN\"]\n",
    "usd_per_eur = response_json[\"quotes\"][\"USDEUR\"]\n",
    "\n",
    "print(usd_per_pln)\n",
    "print(usd_per_eur)"
   ]
  },
  {
   "cell_type": "markdown",
   "metadata": {},
   "source": [
    "Zanim przejdziemy dalej zapraszam do samodzielnej zabawy z API i własnej eksploracji jego możliwości.\n",
    "\n",
    "## II OpenWeatherMap API\n",
    "### 1. Prognoza pogody na 5 dni z 3h dokładnością"
   ]
  },
  {
   "cell_type": "code",
   "execution_count": null,
   "metadata": {},
   "outputs": [],
   "source": [
    "CITY = \"Krakow\"\n",
    "API_KEY = \"7d0c48134ae346811fa50cf99109251f\"  # wpisz swój klucz API\n",
    "\n",
    "my_url = f\"http://api.openweathermap.org/data/2.5/forecast?q={CITY}&appid={API_KEY}\""
   ]
  },
  {
   "cell_type": "code",
   "execution_count": null,
   "metadata": {},
   "outputs": [],
   "source": [
    "print(my_url)"
   ]
  },
  {
   "cell_type": "code",
   "execution_count": null,
   "metadata": {
    "scrolled": true
   },
   "outputs": [],
   "source": [
    "response = requests.get(my_url)\n",
    "response_json = response.json()\n",
    "\n",
    "print(response_json)"
   ]
  },
  {
   "cell_type": "markdown",
   "metadata": {},
   "source": [
    "Przy bardziej złożonych odpowiedziach kluczowe jest zrozumienie struktury danych. Do tego przydatna jest przeglądarka, np. Firefox albo Chrome (z dodatkiem JSON Formatter)"
   ]
  },
  {
   "cell_type": "code",
   "execution_count": null,
   "metadata": {},
   "outputs": [],
   "source": [
    "dates = []\n",
    "temperatures = []\n",
    "\n",
    "for forecast in response_json[\"list\"]:\n",
    "    dates.append(forecast[\"dt_txt\"])\n",
    "    temperatures.append(forecast[\"main\"][\"temp\"] - 273.15)"
   ]
  },
  {
   "cell_type": "code",
   "execution_count": null,
   "metadata": {
    "scrolled": true
   },
   "outputs": [],
   "source": [
    "dates"
   ]
  },
  {
   "cell_type": "code",
   "execution_count": null,
   "metadata": {
    "scrolled": true
   },
   "outputs": [],
   "source": [
    "temperatures"
   ]
  },
  {
   "cell_type": "markdown",
   "metadata": {},
   "source": [
    "### 2. Poziom zanieczyszczenia powietrza"
   ]
  },
  {
   "cell_type": "markdown",
   "metadata": {},
   "source": [
    "API OpenWeatherMap udostępnia również dane dotyczące zanieczyszczenia powietrza w danej chwili (bez prognozy) "
   ]
  },
  {
   "cell_type": "code",
   "execution_count": null,
   "metadata": {},
   "outputs": [],
   "source": [
    "LATITUDE = \"50\"\n",
    "LONGITUDE = \"20\"\n",
    "API_KEY = \"7d0c48134ae346811fa50cf99109251f\"\n",
    "\n",
    "my_url = f\"http://api.openweathermap.org/data/2.5/air_pollution?lat={LATITUDE}&lon={LONGITUDE}&appid={API_KEY}\"\n",
    "print(my_url)"
   ]
  },
  {
   "cell_type": "code",
   "execution_count": null,
   "metadata": {},
   "outputs": [],
   "source": [
    "response = requests.get(my_url)\n",
    "response_json = response.json()"
   ]
  },
  {
   "cell_type": "code",
   "execution_count": null,
   "metadata": {},
   "outputs": [],
   "source": [
    "pm2_5_level = response_json[\"list\"][0][\"components\"][\"pm2_5\"]\n",
    "pm10_level = response_json[\"list\"][0][\"components\"][\"pm10\"]"
   ]
  },
  {
   "cell_type": "code",
   "execution_count": null,
   "metadata": {},
   "outputs": [],
   "source": [
    "print(pm2_5_level)\n",
    "print(pm10_level)"
   ]
  },
  {
   "cell_type": "markdown",
   "metadata": {},
   "source": [
    "### 3. Zadanie do samodzielnego wykonania\n",
    "\n",
    "Korzystając z OpenWeatherMap i kodu napisanego poniżej stwórz mapę zanieczyszczenia powietrza w Polsce. Wizualizacja została już zaimplementowana poniżej na przykładowych wynikach.\n",
    "\n",
    "Czas: ok. 15 minut"
   ]
  },
  {
   "cell_type": "markdown",
   "metadata": {},
   "source": [
    "#### 3.1 Twój kod do pozyskiwania danych"
   ]
  },
  {
   "cell_type": "code",
   "execution_count": null,
   "metadata": {},
   "outputs": [],
   "source": [
    "# ..."
   ]
  },
  {
   "cell_type": "markdown",
   "metadata": {},
   "source": [
    "#### 3.2 Przykładowe wyniki"
   ]
  },
  {
   "cell_type": "code",
   "execution_count": null,
   "metadata": {},
   "outputs": [],
   "source": [
    "longitudes = [20, 21, 18]\n",
    "latitudes = [51, 52, 54]\n",
    "cities = [\"Miasto A\", \"Miasto B\", \"Miasto C\"]\n",
    "pm10s = [20, 40, 60]"
   ]
  },
  {
   "cell_type": "markdown",
   "metadata": {},
   "source": [
    "#### 3.3 Mapa z naniesionymi wynikami\n",
    "Po prostu uruchom poniższą komórkę.\n",
    "\n",
    "Najedź kursorem na marker żeby zobaczyć jaki jest poziom zanieczyszczenia powietrza "
   ]
  },
  {
   "cell_type": "code",
   "execution_count": null,
   "metadata": {},
   "outputs": [],
   "source": [
    "try:\n",
    "    import folium\n",
    "except ModuleNotFoundError:\n",
    "    !pip install folium\n",
    "    import folium\n",
    "\n",
    "m = folium.Map(location=[52, 20], zoom_start=5)\n",
    "\n",
    "for lon, lat, city, pm10 in zip(longitudes, latitudes, cities, pm10s):\n",
    "    if pm10 > 50:\n",
    "        color = \"red\"\n",
    "    elif pm10 <= 50 and pm10 > 30:\n",
    "        color = \"yellow\"\n",
    "    else:\n",
    "        color = \"green\"\n",
    "    \n",
    "    folium.CircleMarker([lat, lon], color=color, tooltip=f\"{city}: pm10={pm10}ug/m3\").add_to(m)\n",
    "    \n",
    "from branca.element import Figure\n",
    "fig = Figure(width=600, height=400)\n",
    "folium.Map(location=[12, 12], zoom_start=2)\n",
    "fig.add_child(m)"
   ]
  },
  {
   "cell_type": "markdown",
   "metadata": {},
   "source": [
    "## III GUS API\n",
    "### 1. Instrukcja\n",
    "\n",
    "Główny Urząd Statystyczny również wystawia API, nawet kilka. Poznamy teraz API Bank Danych Lokalnych.\n",
    "\n",
    "Instrukcja: https://api.stat.gov.pl/Home/BdlApi . Obsługa tego API nie jest już tak prosta jak poprzednich.\n",
    "\n",
    "Skrót instrukcji:\n",
    "1. Wychodzimy od następującego adresu URL: https://bdl.stat.gov.pl/api/v1/subjects?lang=pl&format=json \n",
    "2. Szukamy obszaru, który nas interesuje i sprawdzamy jego id. Na przykład: CENY - K15, FINANSE PRZEDSIĘBIORSTW (DANE KWARTALNE) - K43 itd...\n",
    "3. Korzystamy z następującego adresu URL, https://bdl.stat.gov.pl/api/v1/subjects?parent-id=K15&format=json&lang=pl - jako parametr 'parent-id' wstawiamy id obszaru, który nas interesuje, np. K15 (ceny) \n",
    "4. Po raz kolejny wybieramy id podobszaru, który nas interesuje. W przypadku np. 'PRZECIĘTNE CENY DETALICZNE TOWARÓW I USŁUG KONSUMPCYJNYCH' jest to G188. Nasz kolejny URL wygląda tak: https://bdl.stat.gov.pl/api/v1/subjects?parent-id=G188&format=json&lang=pl (podmieniliśmy parent-id). Postępujemy w ten sposób tak długo jak parametr 'hasVariables' ma wartość False.\n",
    "5. Po raz kolejny wybieramy co dokładnie nas interesuje. Załóżmy że jest to 'Żywność i napoje bezalkoholowe' (id P1466). Zauważmy, że 'hasVariables' przyjęło teraz wartość True.\n",
    "6. Ponieważ hasVariables==True to bierzemy nowy wzór adresu URL (oraz ostatnie id). W naszym przypadku id to P1466, a URL to https://bdl.stat.gov.pl/api/v1/variables?subject-id=P1466&format=json&lang=pl&page-size=100 \n",
    "7. Otrzymaliśmy już konkretne produkty (zmienne - variables) oraz ich numery id. \n",
    "8. Kiedy znamy już numery id produktów, które nas interesują - możemy wyszukiwać ceny tych produktów. Do tego skorzystamy z następującego adresu (na przykładzie id=4992 - ryż za 1 kg) https://bdl.stat.gov.pl/api/v1/data/by-variable/4992?format=json&unit-level=0\n",
    "\n",
    "### 2. Wysłanie zapytania - nagłówki"
   ]
  },
  {
   "cell_type": "code",
   "execution_count": null,
   "metadata": {},
   "outputs": [],
   "source": [
    "url = \"https://bdl.stat.gov.pl/api/v1/data/by-variable/4992?format=json&unit-level=0\"\n",
    "\n",
    "response = # requests.get(url, headers={\"X-ClientId\":\"70353ce7-9085-40fb-358e-08d8cf58ce0f\"})  # wpisz własny klucz API, pamiętaj o limicie requestów"
   ]
  },
  {
   "cell_type": "code",
   "execution_count": null,
   "metadata": {
    "scrolled": true
   },
   "outputs": [],
   "source": [
    "response.json()"
   ]
  },
  {
   "cell_type": "markdown",
   "metadata": {},
   "source": [
    "### 3. Zadanie"
   ]
  },
  {
   "cell_type": "markdown",
   "metadata": {},
   "source": [
    "Stwórz raport dotyczący zmiany cen towarów i/lub usług w czasie. Masz pełną dowolność tego co znajdzie się w raporcie oraz jaka będzie jego forma. Postaraj się wykorzystać jak najwięcej danych udostępnianych przez API. Możesz oprzeć się na cenie jedzenia, ale również na innych kategoriach. Możesz zwizualizować zgromadzone dane w postaci odpowiednio sformatowanego słownika (struktury typu JSON), za pomocą obiektu `DataFrame` z biblioteki pandas lub na wykresie, na przykład korzystając z biblioteki matplotlib.\n",
    "\n",
    "Eksperymentuj. Spróbuj skorzystać z funkcji API, które nie zostały omówione, np. z pobierania danych na poziomie lokalnym a nie krajowym. Skorzystaj w tym celu z instrukcji udostępnionej przez GUS.\n",
    "\n",
    "Uwaga: nie wszystkie produkty mają podane ceny we wszystkich latach.\n",
    "\n",
    "Czas: ok. 60 minut"
   ]
  },
  {
   "cell_type": "markdown",
   "metadata": {},
   "source": [
    "## IV Projekt - wyznaczenie zmian temperatury na przestrzeni wielolecia"
   ]
  },
  {
   "cell_type": "markdown",
   "metadata": {},
   "source": [
    "Czas na projekt końcowy, w którym ponownie użyjemy API pogodowego. Tym razem będzie to API Meteostat, które udostępnia między innymi historyczne dane pogodowe. API znajduje się pod adresem https://dev.meteostat.net/api/\n",
    "\n",
    "Postaraj się znaleźć samodzielnie informacje dotyczące tego jak pozyskać klucz API oraz pobrać zasoby, których potrzebujesz.\n",
    "\n",
    "Twoim zadaniem będzie policzyć średnią temperaturę w ostatnich latach w wybranej stacji pogodowej (jednej lub więcej). API udostępnia dane z wielu lat (w przypadku Warszawy historia sięga lat 70. XX wieku). Zgromadzone dane zwizualizuj na wykresie korzystając z biblioteki matplotlib -> https://matplotlib.org/2.0.2/index.html . Wykorzystaj np. funkcję plot -> https://matplotlib.org/stable/api/_as_gen/matplotlib.pyplot.plot.html\n",
    "\n",
    "Uwaga: czasami - na przykład jeśli przekroczysz dozwoloną liczbę requestów - odpowiedź nie zostanie zwrócona. Jeśli podejrzewasz taki błąd to sprawdź co zwraca `requests.get(...)`. Jeśli jest to `[200]` - odpowiedź została zwrócona poprawnie. Jeśli jednak kod odpowiedzi jest inny, na przykład zaczyna się od cyfry 4 lub 5, świadczy to o błędzie. Znaczenie poszczególnych kodów możesz znaleźć [tutaj](https://pl.wikipedia.org/wiki/Kod_odpowiedzi_HTTP)\n",
    "\n",
    "Podpowiedź: jeśli przekraczasz dozwolony limit requestów, zatrzymaj kod na określoną liczbę (mili)sekund za pomocą funkcji `time.sleep()`\n",
    "\n",
    "\n",
    "\n",
    "Czas: ok. 60 minut. Jeśli zostanie Ci czas, spróbuj znaleźć kolejne zastosowanie tego API, odkryj jakie daje możliwości."
   ]
  },
  {
   "cell_type": "code",
   "execution_count": null,
   "metadata": {},
   "outputs": [],
   "source": []
  }
 ],
 "metadata": {
  "kernelspec": {
   "display_name": "Python 3",
   "language": "python",
   "name": "python3"
  },
  "language_info": {
   "codemirror_mode": {
    "name": "ipython",
    "version": 3
   },
   "file_extension": ".py",
   "mimetype": "text/x-python",
   "name": "python",
   "nbconvert_exporter": "python",
   "pygments_lexer": "ipython3",
   "version": "3.8.5"
  }
 },
 "nbformat": 4,
 "nbformat_minor": 4
}
