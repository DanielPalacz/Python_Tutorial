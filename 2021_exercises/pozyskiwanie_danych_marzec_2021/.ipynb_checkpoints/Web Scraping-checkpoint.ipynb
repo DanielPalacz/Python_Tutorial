{
 "cells": [
  {
   "cell_type": "code",
   "execution_count": null,
   "metadata": {},
   "outputs": [],
   "source": [
    "from IPython.core.display import display, HTML; display(HTML(\"<style>.container { width:90% !important; }</style>\")) "
   ]
  },
  {
   "cell_type": "markdown",
   "metadata": {},
   "source": [
    "# Web scraping"
   ]
  },
  {
   "cell_type": "markdown",
   "metadata": {},
   "source": [
    "Do scrapingu danych z internetu korzystamy z dwóch bibliotek, które pozwalają na:\n",
    "\n",
    "1. Wysyłanie zapytań HTTP w programie Pythona (zamiast w przeglądarce) - `requests`\n",
    "2. Interpretację odpowiedzi HTTP tak aby ułatwić jej przeszukiwanie - `bs4` (`BeautifulSoup`)"
   ]
  },
  {
   "cell_type": "code",
   "execution_count": 7,
   "metadata": {},
   "outputs": [],
   "source": [
    "import requests\n",
    "from bs4 import BeautifulSoup"
   ]
  },
  {
   "cell_type": "markdown",
   "metadata": {},
   "source": [
    "## I Środowisko do nauki (sandbox)"
   ]
  },
  {
   "cell_type": "markdown",
   "metadata": {},
   "source": [
    "https://toscrape.com/\n",
    "\n",
    "oraz podstrony:\n",
    "\n",
    "https://quotes.toscrape.com/\n",
    "\n",
    "https://books.toscrape.com/"
   ]
  },
  {
   "cell_type": "markdown",
   "metadata": {},
   "source": [
    "## II Podstawowe komendy\n",
    "\n",
    "### 1. Pobieranie kodu HTML"
   ]
  },
  {
   "cell_type": "code",
   "execution_count": 4,
   "metadata": {},
   "outputs": [
    {
     "name": "stdout",
     "output_type": "stream",
     "text": [
      "<Response [200]>\n",
      "<Response [200]> \n",
      "----------------\n",
      "\n",
      "<!DOCTYPE html>\n",
      "<html lang=\"en\">\n",
      "<head>\n",
      "\t<meta charset=\"UTF-8\">\n",
      "\t<title>Quotes to Scrape</title>\n",
      "    <link rel=\"stylesheet\" href=\"/static/bootstrap.min.css\">\n",
      "    <link rel=\"stylesheet\" href=\"/static/main.css\">\n",
      "</head>\n",
      "<body>\n",
      "    <div class=\"container\">\n",
      "        <div class=\"row header-box\">\n",
      "            <div class=\"col-md-8\">\n",
      "                <h1>\n",
      "                    <a href=\"/\" style=\"text-decoration: none\">Quotes to Scrape</a>\n",
      "                </h1>\n",
      "            </div>\n",
      "            <div class=\"col-md-4\">\n",
      "                <p>\n",
      "                \n",
      "                    <a href=\"/login\">Login</a>\n",
      "                \n",
      "                </p>\n",
      "            </div>\n",
      "        </div>\n",
      "    \n",
      "\n",
      "<div class=\"row\">\n",
      "    <div class=\"col-md-8\">\n",
      "\n",
      "    <div class=\"quote\" itemscope itemtype=\"http://schema.org/CreativeWork\">\n",
      "        <span class=\"text\" itemprop=\"text\">“The world as we have created it is a process of our thinking. It cannot be changed without changing our thinking.”</span>\n",
      "        <span>by <small class=\"author\" itemprop=\"author\">Albert Einstein</small>\n",
      "        <a href=\"/author/Albert-Einstein\">(about)</a>\n",
      "        </span>\n",
      "        <div class=\"tags\">\n",
      "            Tags:\n",
      "            <meta class=\"keywords\" itemprop=\"keywords\" content=\"change,deep-thoughts,thinking,world\" /    > \n",
      "            \n",
      "            <a class=\"tag\" href=\"/tag/change/page/1/\">change</a>\n",
      "            \n",
      "            <a class=\"tag\" href=\"/tag/deep-thoughts/page/1/\">deep-thoughts</a>\n",
      "            \n",
      "            <a class=\"tag\" href=\"/tag/thinking/page/1/\">thinking</a>\n",
      "            \n",
      "            <a class=\"tag\" href=\"/tag/world/page/1/\">world</a>\n",
      "            \n",
      "        </div>\n",
      "    </div>\n",
      "\n",
      "    <div class=\"quote\" itemscope itemtype=\"http://schema.org/CreativeWork\">\n",
      "        <span class=\"text\" itemprop=\"text\">“It is our choices, Harry, that show what we truly are, far more than our abilities.”</span>\n",
      "        <span>by <small class=\"author\" itemprop=\"author\">J.K. Rowling</small>\n",
      "        <a href=\"/author/J-K-Rowling\">(about)</a>\n",
      "        </span>\n",
      "        <div class=\"tags\">\n",
      "            Tags:\n",
      "            <meta class=\"keywords\" itemprop=\"keywords\" content=\"abilities,choices\" /    > \n",
      "            \n",
      "            <a class=\"tag\" href=\"/tag/abilities/page/1/\">abilities</a>\n",
      "            \n",
      "            <a class=\"tag\" href=\"/tag/choices/page/1/\">choices</a>\n",
      "            \n",
      "        </div>\n",
      "    </div>\n",
      "\n",
      "    <div class=\"quote\" itemscope itemtype=\"http://schema.org/CreativeWork\">\n",
      "        <span class=\"text\" itemprop=\"text\">“There are only two ways to live your life. One is as though nothing is a miracle. The other is as though everything is a miracle.”</span>\n",
      "        <span>by <small class=\"author\" itemprop=\"author\">Albert Einstein</small>\n",
      "        <a href=\"/author/Albert-Einstein\">(about)</a>\n",
      "        </span>\n",
      "        <div class=\"tags\">\n",
      "            Tags:\n",
      "            <meta class=\"keywords\" itemprop=\"keywords\" content=\"inspirational,life,live,miracle,miracles\" /    > \n",
      "            \n",
      "            <a class=\"tag\" href=\"/tag/inspirational/page/1/\">inspirational</a>\n",
      "            \n",
      "            <a class=\"tag\" href=\"/tag/life/page/1/\">life</a>\n",
      "            \n",
      "            <a class=\"tag\" href=\"/tag/live/page/1/\">live</a>\n",
      "            \n",
      "            <a class=\"tag\" href=\"/tag/miracle/page/1/\">miracle</a>\n",
      "            \n",
      "            <a class=\"tag\" href=\"/tag/miracles/page/1/\">miracles</a>\n",
      "            \n",
      "        </div>\n",
      "    </div>\n",
      "\n",
      "    <div class=\"quote\" itemscope itemtype=\"http://schema.org/CreativeWork\">\n",
      "        <span class=\"text\" itemprop=\"text\">“The person, be it gentleman or lady, who has not pleasure in a good novel, must be intolerably stupid.”</span>\n",
      "        <span>by <small class=\"author\" itemprop=\"author\">Jane Austen</small>\n",
      "        <a href=\"/author/Jane-Austen\">(about)</a>\n",
      "        </span>\n",
      "        <div class=\"tags\">\n",
      "            Tags:\n",
      "            <meta class=\"keywords\" itemprop=\"keywords\" content=\"aliteracy,books,classic,humor\" /    > \n",
      "            \n",
      "            <a class=\"tag\" href=\"/tag/aliteracy/page/1/\">aliteracy</a>\n",
      "            \n",
      "            <a class=\"tag\" href=\"/tag/books/page/1/\">books</a>\n",
      "            \n",
      "            <a class=\"tag\" href=\"/tag/classic/page/1/\">classic</a>\n",
      "            \n",
      "            <a class=\"tag\" href=\"/tag/humor/page/1/\">humor</a>\n",
      "            \n",
      "        </div>\n",
      "    </div>\n",
      "\n",
      "    <div class=\"quote\" itemscope itemtype=\"http://schema.org/CreativeWork\">\n",
      "        <span class=\"text\" itemprop=\"text\">“Imperfection is beauty, madness is genius and it&#39;s better to be absolutely ridiculous than absolutely boring.”</span>\n",
      "        <span>by <small class=\"author\" itemprop=\"author\">Marilyn Monroe</small>\n",
      "        <a href=\"/author/Marilyn-Monroe\">(about)</a>\n",
      "        </span>\n",
      "        <div class=\"tags\">\n",
      "            Tags:\n",
      "            <meta class=\"keywords\" itemprop=\"keywords\" content=\"be-yourself,inspirational\" /    > \n",
      "            \n",
      "            <a class=\"tag\" href=\"/tag/be-yourself/page/1/\">be-yourself</a>\n",
      "            \n",
      "            <a class=\"tag\" href=\"/tag/inspirational/page/1/\">inspirational</a>\n",
      "            \n",
      "        </div>\n",
      "    </div>\n",
      "\n",
      "    <div class=\"quote\" itemscope itemtype=\"http://schema.org/CreativeWork\">\n",
      "        <span class=\"text\" itemprop=\"text\">“Try not to become a man of success. Rather become a man of value.”</span>\n",
      "        <span>by <small class=\"author\" itemprop=\"author\">Albert Einstein</small>\n",
      "        <a href=\"/author/Albert-Einstein\">(about)</a>\n",
      "        </span>\n",
      "        <div class=\"tags\">\n",
      "            Tags:\n",
      "            <meta class=\"keywords\" itemprop=\"keywords\" content=\"adulthood,success,value\" /    > \n",
      "            \n",
      "            <a class=\"tag\" href=\"/tag/adulthood/page/1/\">adulthood</a>\n",
      "            \n",
      "            <a class=\"tag\" href=\"/tag/success/page/1/\">success</a>\n",
      "            \n",
      "            <a class=\"tag\" href=\"/tag/value/page/1/\">value</a>\n",
      "            \n",
      "        </div>\n",
      "    </div>\n",
      "\n",
      "    <div class=\"quote\" itemscope itemtype=\"http://schema.org/CreativeWork\">\n",
      "        <span class=\"text\" itemprop=\"text\">“It is better to be hated for what you are than to be loved for what you are not.”</span>\n",
      "        <span>by <small class=\"author\" itemprop=\"author\">André Gide</small>\n",
      "        <a href=\"/author/Andre-Gide\">(about)</a>\n",
      "        </span>\n",
      "        <div class=\"tags\">\n",
      "            Tags:\n",
      "            <meta class=\"keywords\" itemprop=\"keywords\" content=\"life,love\" /    > \n",
      "            \n",
      "            <a class=\"tag\" href=\"/tag/life/page/1/\">life</a>\n",
      "            \n",
      "            <a class=\"tag\" href=\"/tag/love/page/1/\">love</a>\n",
      "            \n",
      "        </div>\n",
      "    </div>\n",
      "\n",
      "    <div class=\"quote\" itemscope itemtype=\"http://schema.org/CreativeWork\">\n",
      "        <span class=\"text\" itemprop=\"text\">“I have not failed. I&#39;ve just found 10,000 ways that won&#39;t work.”</span>\n",
      "        <span>by <small class=\"author\" itemprop=\"author\">Thomas A. Edison</small>\n",
      "        <a href=\"/author/Thomas-A-Edison\">(about)</a>\n",
      "        </span>\n",
      "        <div class=\"tags\">\n",
      "            Tags:\n",
      "            <meta class=\"keywords\" itemprop=\"keywords\" content=\"edison,failure,inspirational,paraphrased\" /    > \n",
      "            \n",
      "            <a class=\"tag\" href=\"/tag/edison/page/1/\">edison</a>\n",
      "            \n",
      "            <a class=\"tag\" href=\"/tag/failure/page/1/\">failure</a>\n",
      "            \n",
      "            <a class=\"tag\" href=\"/tag/inspirational/page/1/\">inspirational</a>\n",
      "            \n",
      "            <a class=\"tag\" href=\"/tag/paraphrased/page/1/\">paraphrased</a>\n",
      "            \n",
      "        </div>\n",
      "    </div>\n",
      "\n",
      "    <div class=\"quote\" itemscope itemtype=\"http://schema.org/CreativeWork\">\n",
      "        <span class=\"text\" itemprop=\"text\">“A woman is like a tea bag; you never know how strong it is until it&#39;s in hot water.”</span>\n",
      "        <span>by <small class=\"author\" itemprop=\"author\">Eleanor Roosevelt</small>\n",
      "        <a href=\"/author/Eleanor-Roosevelt\">(about)</a>\n",
      "        </span>\n",
      "        <div class=\"tags\">\n",
      "            Tags:\n",
      "            <meta class=\"keywords\" itemprop=\"keywords\" content=\"misattributed-eleanor-roosevelt\" /    > \n",
      "            \n",
      "            <a class=\"tag\" href=\"/tag/misattributed-eleanor-roosevelt/page/1/\">misattributed-eleanor-roosevelt</a>\n",
      "            \n",
      "        </div>\n",
      "    </div>\n",
      "\n",
      "    <div class=\"quote\" itemscope itemtype=\"http://schema.org/CreativeWork\">\n",
      "        <span class=\"text\" itemprop=\"text\">“A day without sunshine is like, you know, night.”</span>\n",
      "        <span>by <small class=\"author\" itemprop=\"author\">Steve Martin</small>\n",
      "        <a href=\"/author/Steve-Martin\">(about)</a>\n",
      "        </span>\n",
      "        <div class=\"tags\">\n",
      "            Tags:\n",
      "            <meta class=\"keywords\" itemprop=\"keywords\" content=\"humor,obvious,simile\" /    > \n",
      "            \n",
      "            <a class=\"tag\" href=\"/tag/humor/page/1/\">humor</a>\n",
      "            \n",
      "            <a class=\"tag\" href=\"/tag/obvious/page/1/\">obvious</a>\n",
      "            \n",
      "            <a class=\"tag\" href=\"/tag/simile/page/1/\">simile</a>\n",
      "            \n",
      "        </div>\n",
      "    </div>\n",
      "\n",
      "    <nav>\n",
      "        <ul class=\"pager\">\n",
      "            \n",
      "            \n",
      "            <li class=\"next\">\n",
      "                <a href=\"/page/2/\">Next <span aria-hidden=\"true\">&rarr;</span></a>\n",
      "            </li>\n",
      "            \n",
      "        </ul>\n",
      "    </nav>\n",
      "    </div>\n",
      "    <div class=\"col-md-4 tags-box\">\n",
      "        \n",
      "            <h2>Top Ten tags</h2>\n",
      "            \n",
      "            <span class=\"tag-item\">\n",
      "            <a class=\"tag\" style=\"font-size: 28px\" href=\"/tag/love/\">love</a>\n",
      "            </span>\n",
      "            \n",
      "            <span class=\"tag-item\">\n",
      "            <a class=\"tag\" style=\"font-size: 26px\" href=\"/tag/inspirational/\">inspirational</a>\n",
      "            </span>\n",
      "            \n",
      "            <span class=\"tag-item\">\n",
      "            <a class=\"tag\" style=\"font-size: 26px\" href=\"/tag/life/\">life</a>\n",
      "            </span>\n",
      "            \n",
      "            <span class=\"tag-item\">\n",
      "            <a class=\"tag\" style=\"font-size: 24px\" href=\"/tag/humor/\">humor</a>\n",
      "            </span>\n",
      "            \n",
      "            <span class=\"tag-item\">\n",
      "            <a class=\"tag\" style=\"font-size: 22px\" href=\"/tag/books/\">books</a>\n",
      "            </span>\n",
      "            \n",
      "            <span class=\"tag-item\">\n",
      "            <a class=\"tag\" style=\"font-size: 14px\" href=\"/tag/reading/\">reading</a>\n",
      "            </span>\n",
      "            \n",
      "            <span class=\"tag-item\">\n",
      "            <a class=\"tag\" style=\"font-size: 10px\" href=\"/tag/friendship/\">friendship</a>\n",
      "            </span>\n",
      "            \n",
      "            <span class=\"tag-item\">\n",
      "            <a class=\"tag\" style=\"font-size: 8px\" href=\"/tag/friends/\">friends</a>\n",
      "            </span>\n",
      "            \n",
      "            <span class=\"tag-item\">\n",
      "            <a class=\"tag\" style=\"font-size: 8px\" href=\"/tag/truth/\">truth</a>\n",
      "            </span>\n",
      "            \n",
      "            <span class=\"tag-item\">\n",
      "            <a class=\"tag\" style=\"font-size: 6px\" href=\"/tag/simile/\">simile</a>\n",
      "            </span>\n",
      "            \n",
      "        \n",
      "    </div>\n",
      "</div>\n",
      "\n",
      "    </div>\n",
      "    <footer class=\"footer\">\n",
      "        <div class=\"container\">\n",
      "            <p class=\"text-muted\">\n",
      "                Quotes by: <a href=\"https://www.goodreads.com/quotes\">GoodReads.com</a>\n",
      "            </p>\n",
      "            <p class=\"copyright\">\n",
      "                Made with <span class='sh-red'>❤</span> by <a href=\"https://scrapinghub.com\">Scrapinghub</a>\n",
      "            </p>\n",
      "        </div>\n",
      "    </footer>\n",
      "</body>\n",
      "</html>\n"
     ]
    }
   ],
   "source": [
    "quotes_url = \"https://quotes.toscrape.com/\"\n",
    "\n",
    "response = requests.get(quotes_url)\n",
    "print(response)\n",
    "print(response, '\\n----------------\\n')\n",
    "print(response.text)"
   ]
  },
  {
   "cell_type": "code",
   "execution_count": 5,
   "metadata": {},
   "outputs": [
    {
     "data": {
      "text/plain": [
       "str"
      ]
     },
     "execution_count": 5,
     "metadata": {},
     "output_type": "execute_result"
    }
   ],
   "source": [
    "type(response.text)"
   ]
  },
  {
   "cell_type": "code",
   "execution_count": 6,
   "metadata": {},
   "outputs": [
    {
     "name": "stdout",
     "output_type": "stream",
     "text": [
      "<!DOCTYPE html>\n",
      "\n",
      "<html lang=\"en\">\n",
      "<head>\n",
      "<meta charset=\"utf-8\"/>\n",
      "<title>Quotes to Scrape</title>\n",
      "<link href=\"/static/bootstrap.min.css\" rel=\"stylesheet\"/>\n",
      "<link href=\"/static/main.css\" rel=\"stylesheet\"/>\n",
      "</head>\n",
      "<body>\n",
      "<div class=\"container\">\n",
      "<div class=\"row header-box\">\n",
      "<div class=\"col-md-8\">\n",
      "<h1>\n",
      "<a href=\"/\" style=\"text-decoration: none\">Quotes to Scrape</a>\n",
      "</h1>\n",
      "</div>\n",
      "<div class=\"col-md-4\">\n",
      "<p>\n",
      "<a href=\"/login\">Login</a>\n",
      "</p>\n",
      "</div>\n",
      "</div>\n",
      "<div class=\"row\">\n",
      "<div class=\"col-md-8\">\n",
      "<div class=\"quote\" itemscope=\"\" itemtype=\"http://schema.org/CreativeWork\">\n",
      "<span class=\"text\" itemprop=\"text\">“The world as we have created it is a process of our thinking. It cannot be changed without changing our thinking.”</span>\n",
      "<span>by <small class=\"author\" itemprop=\"author\">Albert Einstein</small>\n",
      "<a href=\"/author/Albert-Einstein\">(about)</a>\n",
      "</span>\n",
      "<div class=\"tags\">\n",
      "            Tags:\n",
      "            <meta class=\"keywords\" content=\"change,deep-thoughts,thinking,world\" itemprop=\"keywords\"/>\n",
      "<a class=\"tag\" href=\"/tag/change/page/1/\">change</a>\n",
      "<a class=\"tag\" href=\"/tag/deep-thoughts/page/1/\">deep-thoughts</a>\n",
      "<a class=\"tag\" href=\"/tag/thinking/page/1/\">thinking</a>\n",
      "<a class=\"tag\" href=\"/tag/world/page/1/\">world</a>\n",
      "</div>\n",
      "</div>\n",
      "<div class=\"quote\" itemscope=\"\" itemtype=\"http://schema.org/CreativeWork\">\n",
      "<span class=\"text\" itemprop=\"text\">“It is our choices, Harry, that show what we truly are, far more than our abilities.”</span>\n",
      "<span>by <small class=\"author\" itemprop=\"author\">J.K. Rowling</small>\n",
      "<a href=\"/author/J-K-Rowling\">(about)</a>\n",
      "</span>\n",
      "<div class=\"tags\">\n",
      "            Tags:\n",
      "            <meta class=\"keywords\" content=\"abilities,choices\" itemprop=\"keywords\"/>\n",
      "<a class=\"tag\" href=\"/tag/abilities/page/1/\">abilities</a>\n",
      "<a class=\"tag\" href=\"/tag/choices/page/1/\">choices</a>\n",
      "</div>\n",
      "</div>\n",
      "<div class=\"quote\" itemscope=\"\" itemtype=\"http://schema.org/CreativeWork\">\n",
      "<span class=\"text\" itemprop=\"text\">“There are only two ways to live your life. One is as though nothing is a miracle. The other is as though everything is a miracle.”</span>\n",
      "<span>by <small class=\"author\" itemprop=\"author\">Albert Einstein</small>\n",
      "<a href=\"/author/Albert-Einstein\">(about)</a>\n",
      "</span>\n",
      "<div class=\"tags\">\n",
      "            Tags:\n",
      "            <meta class=\"keywords\" content=\"inspirational,life,live,miracle,miracles\" itemprop=\"keywords\"/>\n",
      "<a class=\"tag\" href=\"/tag/inspirational/page/1/\">inspirational</a>\n",
      "<a class=\"tag\" href=\"/tag/life/page/1/\">life</a>\n",
      "<a class=\"tag\" href=\"/tag/live/page/1/\">live</a>\n",
      "<a class=\"tag\" href=\"/tag/miracle/page/1/\">miracle</a>\n",
      "<a class=\"tag\" href=\"/tag/miracles/page/1/\">miracles</a>\n",
      "</div>\n",
      "</div>\n",
      "<div class=\"quote\" itemscope=\"\" itemtype=\"http://schema.org/CreativeWork\">\n",
      "<span class=\"text\" itemprop=\"text\">“The person, be it gentleman or lady, who has not pleasure in a good novel, must be intolerably stupid.”</span>\n",
      "<span>by <small class=\"author\" itemprop=\"author\">Jane Austen</small>\n",
      "<a href=\"/author/Jane-Austen\">(about)</a>\n",
      "</span>\n",
      "<div class=\"tags\">\n",
      "            Tags:\n",
      "            <meta class=\"keywords\" content=\"aliteracy,books,classic,humor\" itemprop=\"keywords\"/>\n",
      "<a class=\"tag\" href=\"/tag/aliteracy/page/1/\">aliteracy</a>\n",
      "<a class=\"tag\" href=\"/tag/books/page/1/\">books</a>\n",
      "<a class=\"tag\" href=\"/tag/classic/page/1/\">classic</a>\n",
      "<a class=\"tag\" href=\"/tag/humor/page/1/\">humor</a>\n",
      "</div>\n",
      "</div>\n",
      "<div class=\"quote\" itemscope=\"\" itemtype=\"http://schema.org/CreativeWork\">\n",
      "<span class=\"text\" itemprop=\"text\">“Imperfection is beauty, madness is genius and it's better to be absolutely ridiculous than absolutely boring.”</span>\n",
      "<span>by <small class=\"author\" itemprop=\"author\">Marilyn Monroe</small>\n",
      "<a href=\"/author/Marilyn-Monroe\">(about)</a>\n",
      "</span>\n",
      "<div class=\"tags\">\n",
      "            Tags:\n",
      "            <meta class=\"keywords\" content=\"be-yourself,inspirational\" itemprop=\"keywords\"/>\n",
      "<a class=\"tag\" href=\"/tag/be-yourself/page/1/\">be-yourself</a>\n",
      "<a class=\"tag\" href=\"/tag/inspirational/page/1/\">inspirational</a>\n",
      "</div>\n",
      "</div>\n",
      "<div class=\"quote\" itemscope=\"\" itemtype=\"http://schema.org/CreativeWork\">\n",
      "<span class=\"text\" itemprop=\"text\">“Try not to become a man of success. Rather become a man of value.”</span>\n",
      "<span>by <small class=\"author\" itemprop=\"author\">Albert Einstein</small>\n",
      "<a href=\"/author/Albert-Einstein\">(about)</a>\n",
      "</span>\n",
      "<div class=\"tags\">\n",
      "            Tags:\n",
      "            <meta class=\"keywords\" content=\"adulthood,success,value\" itemprop=\"keywords\"/>\n",
      "<a class=\"tag\" href=\"/tag/adulthood/page/1/\">adulthood</a>\n",
      "<a class=\"tag\" href=\"/tag/success/page/1/\">success</a>\n",
      "<a class=\"tag\" href=\"/tag/value/page/1/\">value</a>\n",
      "</div>\n",
      "</div>\n",
      "<div class=\"quote\" itemscope=\"\" itemtype=\"http://schema.org/CreativeWork\">\n",
      "<span class=\"text\" itemprop=\"text\">“It is better to be hated for what you are than to be loved for what you are not.”</span>\n",
      "<span>by <small class=\"author\" itemprop=\"author\">André Gide</small>\n",
      "<a href=\"/author/Andre-Gide\">(about)</a>\n",
      "</span>\n",
      "<div class=\"tags\">\n",
      "            Tags:\n",
      "            <meta class=\"keywords\" content=\"life,love\" itemprop=\"keywords\"/>\n",
      "<a class=\"tag\" href=\"/tag/life/page/1/\">life</a>\n",
      "<a class=\"tag\" href=\"/tag/love/page/1/\">love</a>\n",
      "</div>\n",
      "</div>\n",
      "<div class=\"quote\" itemscope=\"\" itemtype=\"http://schema.org/CreativeWork\">\n",
      "<span class=\"text\" itemprop=\"text\">“I have not failed. I've just found 10,000 ways that won't work.”</span>\n",
      "<span>by <small class=\"author\" itemprop=\"author\">Thomas A. Edison</small>\n",
      "<a href=\"/author/Thomas-A-Edison\">(about)</a>\n",
      "</span>\n",
      "<div class=\"tags\">\n",
      "            Tags:\n",
      "            <meta class=\"keywords\" content=\"edison,failure,inspirational,paraphrased\" itemprop=\"keywords\"/>\n",
      "<a class=\"tag\" href=\"/tag/edison/page/1/\">edison</a>\n",
      "<a class=\"tag\" href=\"/tag/failure/page/1/\">failure</a>\n",
      "<a class=\"tag\" href=\"/tag/inspirational/page/1/\">inspirational</a>\n",
      "<a class=\"tag\" href=\"/tag/paraphrased/page/1/\">paraphrased</a>\n",
      "</div>\n",
      "</div>\n",
      "<div class=\"quote\" itemscope=\"\" itemtype=\"http://schema.org/CreativeWork\">\n",
      "<span class=\"text\" itemprop=\"text\">“A woman is like a tea bag; you never know how strong it is until it's in hot water.”</span>\n",
      "<span>by <small class=\"author\" itemprop=\"author\">Eleanor Roosevelt</small>\n",
      "<a href=\"/author/Eleanor-Roosevelt\">(about)</a>\n",
      "</span>\n",
      "<div class=\"tags\">\n",
      "            Tags:\n",
      "            <meta class=\"keywords\" content=\"misattributed-eleanor-roosevelt\" itemprop=\"keywords\"/>\n",
      "<a class=\"tag\" href=\"/tag/misattributed-eleanor-roosevelt/page/1/\">misattributed-eleanor-roosevelt</a>\n",
      "</div>\n",
      "</div>\n",
      "<div class=\"quote\" itemscope=\"\" itemtype=\"http://schema.org/CreativeWork\">\n",
      "<span class=\"text\" itemprop=\"text\">“A day without sunshine is like, you know, night.”</span>\n",
      "<span>by <small class=\"author\" itemprop=\"author\">Steve Martin</small>\n",
      "<a href=\"/author/Steve-Martin\">(about)</a>\n",
      "</span>\n",
      "<div class=\"tags\">\n",
      "            Tags:\n",
      "            <meta class=\"keywords\" content=\"humor,obvious,simile\" itemprop=\"keywords\"/>\n",
      "<a class=\"tag\" href=\"/tag/humor/page/1/\">humor</a>\n",
      "<a class=\"tag\" href=\"/tag/obvious/page/1/\">obvious</a>\n",
      "<a class=\"tag\" href=\"/tag/simile/page/1/\">simile</a>\n",
      "</div>\n",
      "</div>\n",
      "<nav>\n",
      "<ul class=\"pager\">\n",
      "<li class=\"next\">\n",
      "<a href=\"/page/2/\">Next <span aria-hidden=\"true\">→</span></a>\n",
      "</li>\n",
      "</ul>\n",
      "</nav>\n",
      "</div>\n",
      "<div class=\"col-md-4 tags-box\">\n",
      "<h2>Top Ten tags</h2>\n",
      "<span class=\"tag-item\">\n",
      "<a class=\"tag\" href=\"/tag/love/\" style=\"font-size: 28px\">love</a>\n",
      "</span>\n",
      "<span class=\"tag-item\">\n",
      "<a class=\"tag\" href=\"/tag/inspirational/\" style=\"font-size: 26px\">inspirational</a>\n",
      "</span>\n",
      "<span class=\"tag-item\">\n",
      "<a class=\"tag\" href=\"/tag/life/\" style=\"font-size: 26px\">life</a>\n",
      "</span>\n",
      "<span class=\"tag-item\">\n",
      "<a class=\"tag\" href=\"/tag/humor/\" style=\"font-size: 24px\">humor</a>\n",
      "</span>\n",
      "<span class=\"tag-item\">\n",
      "<a class=\"tag\" href=\"/tag/books/\" style=\"font-size: 22px\">books</a>\n",
      "</span>\n",
      "<span class=\"tag-item\">\n",
      "<a class=\"tag\" href=\"/tag/reading/\" style=\"font-size: 14px\">reading</a>\n",
      "</span>\n",
      "<span class=\"tag-item\">\n",
      "<a class=\"tag\" href=\"/tag/friendship/\" style=\"font-size: 10px\">friendship</a>\n",
      "</span>\n",
      "<span class=\"tag-item\">\n",
      "<a class=\"tag\" href=\"/tag/friends/\" style=\"font-size: 8px\">friends</a>\n",
      "</span>\n",
      "<span class=\"tag-item\">\n",
      "<a class=\"tag\" href=\"/tag/truth/\" style=\"font-size: 8px\">truth</a>\n",
      "</span>\n",
      "<span class=\"tag-item\">\n",
      "<a class=\"tag\" href=\"/tag/simile/\" style=\"font-size: 6px\">simile</a>\n",
      "</span>\n",
      "</div>\n",
      "</div>\n",
      "</div>\n",
      "<footer class=\"footer\">\n",
      "<div class=\"container\">\n",
      "<p class=\"text-muted\">\n",
      "                Quotes by: <a href=\"https://www.goodreads.com/quotes\">GoodReads.com</a>\n",
      "</p>\n",
      "<p class=\"copyright\">\n",
      "                Made with <span class=\"sh-red\">❤</span> by <a href=\"https://scrapinghub.com\">Scrapinghub</a>\n",
      "</p>\n",
      "</div>\n",
      "</footer>\n",
      "</body>\n",
      "</html>\n"
     ]
    }
   ],
   "source": [
    "soup = BeautifulSoup(response.text, 'html.parser')\n",
    "print(soup)"
   ]
  },
  {
   "cell_type": "code",
   "execution_count": 8,
   "metadata": {},
   "outputs": [
    {
     "data": {
      "text/plain": [
       "bs4.BeautifulSoup"
      ]
     },
     "execution_count": 8,
     "metadata": {},
     "output_type": "execute_result"
    }
   ],
   "source": [
    "type(soup)"
   ]
  },
  {
   "cell_type": "markdown",
   "metadata": {},
   "source": [
    "### 2. Parsowanie kodu HTML\n",
    "\n",
    "#### 2.1 Ekstrakcja tekstu wewnątrz znaczników HTML"
   ]
  },
  {
   "cell_type": "code",
   "execution_count": 9,
   "metadata": {},
   "outputs": [
    {
     "data": {
      "text/plain": [
       "<a href=\"/\" style=\"text-decoration: none\">Quotes to Scrape</a>"
      ]
     },
     "execution_count": 9,
     "metadata": {},
     "output_type": "execute_result"
    }
   ],
   "source": [
    "soup.find(\"a\")"
   ]
  },
  {
   "cell_type": "code",
   "execution_count": 10,
   "metadata": {
    "scrolled": true
   },
   "outputs": [
    {
     "data": {
      "text/plain": [
       "[<a href=\"/\" style=\"text-decoration: none\">Quotes to Scrape</a>,\n",
       " <a href=\"/login\">Login</a>,\n",
       " <a href=\"/author/Albert-Einstein\">(about)</a>,\n",
       " <a class=\"tag\" href=\"/tag/change/page/1/\">change</a>,\n",
       " <a class=\"tag\" href=\"/tag/deep-thoughts/page/1/\">deep-thoughts</a>,\n",
       " <a class=\"tag\" href=\"/tag/thinking/page/1/\">thinking</a>,\n",
       " <a class=\"tag\" href=\"/tag/world/page/1/\">world</a>,\n",
       " <a href=\"/author/J-K-Rowling\">(about)</a>,\n",
       " <a class=\"tag\" href=\"/tag/abilities/page/1/\">abilities</a>,\n",
       " <a class=\"tag\" href=\"/tag/choices/page/1/\">choices</a>,\n",
       " <a href=\"/author/Albert-Einstein\">(about)</a>,\n",
       " <a class=\"tag\" href=\"/tag/inspirational/page/1/\">inspirational</a>,\n",
       " <a class=\"tag\" href=\"/tag/life/page/1/\">life</a>,\n",
       " <a class=\"tag\" href=\"/tag/live/page/1/\">live</a>,\n",
       " <a class=\"tag\" href=\"/tag/miracle/page/1/\">miracle</a>,\n",
       " <a class=\"tag\" href=\"/tag/miracles/page/1/\">miracles</a>,\n",
       " <a href=\"/author/Jane-Austen\">(about)</a>,\n",
       " <a class=\"tag\" href=\"/tag/aliteracy/page/1/\">aliteracy</a>,\n",
       " <a class=\"tag\" href=\"/tag/books/page/1/\">books</a>,\n",
       " <a class=\"tag\" href=\"/tag/classic/page/1/\">classic</a>,\n",
       " <a class=\"tag\" href=\"/tag/humor/page/1/\">humor</a>,\n",
       " <a href=\"/author/Marilyn-Monroe\">(about)</a>,\n",
       " <a class=\"tag\" href=\"/tag/be-yourself/page/1/\">be-yourself</a>,\n",
       " <a class=\"tag\" href=\"/tag/inspirational/page/1/\">inspirational</a>,\n",
       " <a href=\"/author/Albert-Einstein\">(about)</a>,\n",
       " <a class=\"tag\" href=\"/tag/adulthood/page/1/\">adulthood</a>,\n",
       " <a class=\"tag\" href=\"/tag/success/page/1/\">success</a>,\n",
       " <a class=\"tag\" href=\"/tag/value/page/1/\">value</a>,\n",
       " <a href=\"/author/Andre-Gide\">(about)</a>,\n",
       " <a class=\"tag\" href=\"/tag/life/page/1/\">life</a>,\n",
       " <a class=\"tag\" href=\"/tag/love/page/1/\">love</a>,\n",
       " <a href=\"/author/Thomas-A-Edison\">(about)</a>,\n",
       " <a class=\"tag\" href=\"/tag/edison/page/1/\">edison</a>,\n",
       " <a class=\"tag\" href=\"/tag/failure/page/1/\">failure</a>,\n",
       " <a class=\"tag\" href=\"/tag/inspirational/page/1/\">inspirational</a>,\n",
       " <a class=\"tag\" href=\"/tag/paraphrased/page/1/\">paraphrased</a>,\n",
       " <a href=\"/author/Eleanor-Roosevelt\">(about)</a>,\n",
       " <a class=\"tag\" href=\"/tag/misattributed-eleanor-roosevelt/page/1/\">misattributed-eleanor-roosevelt</a>,\n",
       " <a href=\"/author/Steve-Martin\">(about)</a>,\n",
       " <a class=\"tag\" href=\"/tag/humor/page/1/\">humor</a>,\n",
       " <a class=\"tag\" href=\"/tag/obvious/page/1/\">obvious</a>,\n",
       " <a class=\"tag\" href=\"/tag/simile/page/1/\">simile</a>,\n",
       " <a href=\"/page/2/\">Next <span aria-hidden=\"true\">→</span></a>,\n",
       " <a class=\"tag\" href=\"/tag/love/\" style=\"font-size: 28px\">love</a>,\n",
       " <a class=\"tag\" href=\"/tag/inspirational/\" style=\"font-size: 26px\">inspirational</a>,\n",
       " <a class=\"tag\" href=\"/tag/life/\" style=\"font-size: 26px\">life</a>,\n",
       " <a class=\"tag\" href=\"/tag/humor/\" style=\"font-size: 24px\">humor</a>,\n",
       " <a class=\"tag\" href=\"/tag/books/\" style=\"font-size: 22px\">books</a>,\n",
       " <a class=\"tag\" href=\"/tag/reading/\" style=\"font-size: 14px\">reading</a>,\n",
       " <a class=\"tag\" href=\"/tag/friendship/\" style=\"font-size: 10px\">friendship</a>,\n",
       " <a class=\"tag\" href=\"/tag/friends/\" style=\"font-size: 8px\">friends</a>,\n",
       " <a class=\"tag\" href=\"/tag/truth/\" style=\"font-size: 8px\">truth</a>,\n",
       " <a class=\"tag\" href=\"/tag/simile/\" style=\"font-size: 6px\">simile</a>,\n",
       " <a href=\"https://www.goodreads.com/quotes\">GoodReads.com</a>,\n",
       " <a href=\"https://scrapinghub.com\">Scrapinghub</a>]"
      ]
     },
     "execution_count": 10,
     "metadata": {},
     "output_type": "execute_result"
    }
   ],
   "source": [
    "soup.find_all(\"a\")"
   ]
  },
  {
   "cell_type": "code",
   "execution_count": 11,
   "metadata": {},
   "outputs": [
    {
     "data": {
      "text/plain": [
       "55"
      ]
     },
     "execution_count": 11,
     "metadata": {},
     "output_type": "execute_result"
    }
   ],
   "source": [
    "len(soup.find_all(\"a\"))"
   ]
  },
  {
   "cell_type": "code",
   "execution_count": 12,
   "metadata": {},
   "outputs": [
    {
     "name": "stdout",
     "output_type": "stream",
     "text": [
      "Quotes to Scrape\n"
     ]
    }
   ],
   "source": [
    "h1_anchor = soup.find(\"a\")\n",
    "page_header = h1_anchor.text\n",
    "\n",
    "print(page_header)"
   ]
  },
  {
   "cell_type": "markdown",
   "metadata": {},
   "source": [
    "#### 2.2 Doprecyzowanie znacznika poprzez podanie klasy"
   ]
  },
  {
   "cell_type": "code",
   "execution_count": 13,
   "metadata": {
    "scrolled": true
   },
   "outputs": [
    {
     "data": {
      "text/plain": [
       "[<a class=\"tag\" href=\"/tag/change/page/1/\">change</a>,\n",
       " <a class=\"tag\" href=\"/tag/deep-thoughts/page/1/\">deep-thoughts</a>,\n",
       " <a class=\"tag\" href=\"/tag/thinking/page/1/\">thinking</a>,\n",
       " <a class=\"tag\" href=\"/tag/world/page/1/\">world</a>,\n",
       " <a class=\"tag\" href=\"/tag/abilities/page/1/\">abilities</a>,\n",
       " <a class=\"tag\" href=\"/tag/choices/page/1/\">choices</a>,\n",
       " <a class=\"tag\" href=\"/tag/inspirational/page/1/\">inspirational</a>,\n",
       " <a class=\"tag\" href=\"/tag/life/page/1/\">life</a>,\n",
       " <a class=\"tag\" href=\"/tag/live/page/1/\">live</a>,\n",
       " <a class=\"tag\" href=\"/tag/miracle/page/1/\">miracle</a>,\n",
       " <a class=\"tag\" href=\"/tag/miracles/page/1/\">miracles</a>,\n",
       " <a class=\"tag\" href=\"/tag/aliteracy/page/1/\">aliteracy</a>,\n",
       " <a class=\"tag\" href=\"/tag/books/page/1/\">books</a>,\n",
       " <a class=\"tag\" href=\"/tag/classic/page/1/\">classic</a>,\n",
       " <a class=\"tag\" href=\"/tag/humor/page/1/\">humor</a>,\n",
       " <a class=\"tag\" href=\"/tag/be-yourself/page/1/\">be-yourself</a>,\n",
       " <a class=\"tag\" href=\"/tag/inspirational/page/1/\">inspirational</a>,\n",
       " <a class=\"tag\" href=\"/tag/adulthood/page/1/\">adulthood</a>,\n",
       " <a class=\"tag\" href=\"/tag/success/page/1/\">success</a>,\n",
       " <a class=\"tag\" href=\"/tag/value/page/1/\">value</a>,\n",
       " <a class=\"tag\" href=\"/tag/life/page/1/\">life</a>,\n",
       " <a class=\"tag\" href=\"/tag/love/page/1/\">love</a>,\n",
       " <a class=\"tag\" href=\"/tag/edison/page/1/\">edison</a>,\n",
       " <a class=\"tag\" href=\"/tag/failure/page/1/\">failure</a>,\n",
       " <a class=\"tag\" href=\"/tag/inspirational/page/1/\">inspirational</a>,\n",
       " <a class=\"tag\" href=\"/tag/paraphrased/page/1/\">paraphrased</a>,\n",
       " <a class=\"tag\" href=\"/tag/misattributed-eleanor-roosevelt/page/1/\">misattributed-eleanor-roosevelt</a>,\n",
       " <a class=\"tag\" href=\"/tag/humor/page/1/\">humor</a>,\n",
       " <a class=\"tag\" href=\"/tag/obvious/page/1/\">obvious</a>,\n",
       " <a class=\"tag\" href=\"/tag/simile/page/1/\">simile</a>,\n",
       " <a class=\"tag\" href=\"/tag/love/\" style=\"font-size: 28px\">love</a>,\n",
       " <a class=\"tag\" href=\"/tag/inspirational/\" style=\"font-size: 26px\">inspirational</a>,\n",
       " <a class=\"tag\" href=\"/tag/life/\" style=\"font-size: 26px\">life</a>,\n",
       " <a class=\"tag\" href=\"/tag/humor/\" style=\"font-size: 24px\">humor</a>,\n",
       " <a class=\"tag\" href=\"/tag/books/\" style=\"font-size: 22px\">books</a>,\n",
       " <a class=\"tag\" href=\"/tag/reading/\" style=\"font-size: 14px\">reading</a>,\n",
       " <a class=\"tag\" href=\"/tag/friendship/\" style=\"font-size: 10px\">friendship</a>,\n",
       " <a class=\"tag\" href=\"/tag/friends/\" style=\"font-size: 8px\">friends</a>,\n",
       " <a class=\"tag\" href=\"/tag/truth/\" style=\"font-size: 8px\">truth</a>,\n",
       " <a class=\"tag\" href=\"/tag/simile/\" style=\"font-size: 6px\">simile</a>]"
      ]
     },
     "execution_count": 13,
     "metadata": {},
     "output_type": "execute_result"
    }
   ],
   "source": [
    "soup.find_all(\"a\", class_=\"tag\")   # oprócz klasy można podawać też inne atrybuty, np. id"
   ]
  },
  {
   "cell_type": "markdown",
   "metadata": {},
   "source": [
    "#### 2.3 Wyciąganie wartości atrybutów w poszczególnych znacznikach"
   ]
  },
  {
   "cell_type": "code",
   "execution_count": 14,
   "metadata": {},
   "outputs": [
    {
     "data": {
      "text/plain": [
       "<a class=\"tag\" href=\"/tag/change/page/1/\">change</a>"
      ]
     },
     "execution_count": 14,
     "metadata": {},
     "output_type": "execute_result"
    }
   ],
   "source": [
    "soup.find_all(\"a\")[3]"
   ]
  },
  {
   "cell_type": "code",
   "execution_count": 15,
   "metadata": {},
   "outputs": [
    {
     "data": {
      "text/plain": [
       "'/tag/change/page/1/'"
      ]
     },
     "execution_count": 15,
     "metadata": {},
     "output_type": "execute_result"
    }
   ],
   "source": [
    "soup.find_all(\"a\")[3].attrs[\"href\"]"
   ]
  },
  {
   "cell_type": "code",
   "execution_count": 16,
   "metadata": {},
   "outputs": [
    {
     "data": {
      "text/plain": [
       "['tag']"
      ]
     },
     "execution_count": 16,
     "metadata": {},
     "output_type": "execute_result"
    }
   ],
   "source": [
    "soup.find_all(\"a\")[3].attrs[\"class\"]"
   ]
  },
  {
   "cell_type": "markdown",
   "metadata": {},
   "source": [
    "### 3. Podsumowanie podstawowych poleceń poleceń\n",
    "#### 3.1 Pobieranie i parsowanie HTML"
   ]
  },
  {
   "cell_type": "code",
   "execution_count": 18,
   "metadata": {},
   "outputs": [
    {
     "ename": "MissingSchema",
     "evalue": "Invalid URL 'www.urladdress.com': No schema supplied. Perhaps you meant http://www.urladdress.com?",
     "output_type": "error",
     "traceback": [
      "\u001b[1;31m---------------------------------------------------------------------------\u001b[0m",
      "\u001b[1;31mMissingSchema\u001b[0m                             Traceback (most recent call last)",
      "\u001b[1;32m<ipython-input-18-fdd3233b9676>\u001b[0m in \u001b[0;36m<module>\u001b[1;34m\u001b[0m\n\u001b[0;32m      1\u001b[0m \u001b[0murl\u001b[0m \u001b[1;33m=\u001b[0m \u001b[1;34m\"www.urladdress.com\"\u001b[0m\u001b[1;33m\u001b[0m\u001b[1;33m\u001b[0m\u001b[0m\n\u001b[0;32m      2\u001b[0m \u001b[1;33m\u001b[0m\u001b[0m\n\u001b[1;32m----> 3\u001b[1;33m \u001b[0mresponse\u001b[0m \u001b[1;33m=\u001b[0m \u001b[0mrequests\u001b[0m\u001b[1;33m.\u001b[0m\u001b[0mget\u001b[0m\u001b[1;33m(\u001b[0m\u001b[0murl\u001b[0m\u001b[1;33m)\u001b[0m\u001b[1;33m\u001b[0m\u001b[1;33m\u001b[0m\u001b[0m\n\u001b[0m\u001b[0;32m      4\u001b[0m \u001b[0msoup\u001b[0m \u001b[1;33m=\u001b[0m \u001b[0mBeautifulSoup\u001b[0m\u001b[1;33m(\u001b[0m\u001b[0mresponse\u001b[0m\u001b[1;33m.\u001b[0m\u001b[0mtext\u001b[0m\u001b[1;33m,\u001b[0m \u001b[1;34m'html.parser'\u001b[0m\u001b[1;33m)\u001b[0m\u001b[1;33m\u001b[0m\u001b[1;33m\u001b[0m\u001b[0m\n",
      "\u001b[1;32mD:\\anaconda3\\lib\\site-packages\\requests\\api.py\u001b[0m in \u001b[0;36mget\u001b[1;34m(url, params, **kwargs)\u001b[0m\n\u001b[0;32m     74\u001b[0m \u001b[1;33m\u001b[0m\u001b[0m\n\u001b[0;32m     75\u001b[0m     \u001b[0mkwargs\u001b[0m\u001b[1;33m.\u001b[0m\u001b[0msetdefault\u001b[0m\u001b[1;33m(\u001b[0m\u001b[1;34m'allow_redirects'\u001b[0m\u001b[1;33m,\u001b[0m \u001b[1;32mTrue\u001b[0m\u001b[1;33m)\u001b[0m\u001b[1;33m\u001b[0m\u001b[1;33m\u001b[0m\u001b[0m\n\u001b[1;32m---> 76\u001b[1;33m     \u001b[1;32mreturn\u001b[0m \u001b[0mrequest\u001b[0m\u001b[1;33m(\u001b[0m\u001b[1;34m'get'\u001b[0m\u001b[1;33m,\u001b[0m \u001b[0murl\u001b[0m\u001b[1;33m,\u001b[0m \u001b[0mparams\u001b[0m\u001b[1;33m=\u001b[0m\u001b[0mparams\u001b[0m\u001b[1;33m,\u001b[0m \u001b[1;33m**\u001b[0m\u001b[0mkwargs\u001b[0m\u001b[1;33m)\u001b[0m\u001b[1;33m\u001b[0m\u001b[1;33m\u001b[0m\u001b[0m\n\u001b[0m\u001b[0;32m     77\u001b[0m \u001b[1;33m\u001b[0m\u001b[0m\n\u001b[0;32m     78\u001b[0m \u001b[1;33m\u001b[0m\u001b[0m\n",
      "\u001b[1;32mD:\\anaconda3\\lib\\site-packages\\requests\\api.py\u001b[0m in \u001b[0;36mrequest\u001b[1;34m(method, url, **kwargs)\u001b[0m\n\u001b[0;32m     59\u001b[0m     \u001b[1;31m# cases, and look like a memory leak in others.\u001b[0m\u001b[1;33m\u001b[0m\u001b[1;33m\u001b[0m\u001b[1;33m\u001b[0m\u001b[0m\n\u001b[0;32m     60\u001b[0m     \u001b[1;32mwith\u001b[0m \u001b[0msessions\u001b[0m\u001b[1;33m.\u001b[0m\u001b[0mSession\u001b[0m\u001b[1;33m(\u001b[0m\u001b[1;33m)\u001b[0m \u001b[1;32mas\u001b[0m \u001b[0msession\u001b[0m\u001b[1;33m:\u001b[0m\u001b[1;33m\u001b[0m\u001b[1;33m\u001b[0m\u001b[0m\n\u001b[1;32m---> 61\u001b[1;33m         \u001b[1;32mreturn\u001b[0m \u001b[0msession\u001b[0m\u001b[1;33m.\u001b[0m\u001b[0mrequest\u001b[0m\u001b[1;33m(\u001b[0m\u001b[0mmethod\u001b[0m\u001b[1;33m=\u001b[0m\u001b[0mmethod\u001b[0m\u001b[1;33m,\u001b[0m \u001b[0murl\u001b[0m\u001b[1;33m=\u001b[0m\u001b[0murl\u001b[0m\u001b[1;33m,\u001b[0m \u001b[1;33m**\u001b[0m\u001b[0mkwargs\u001b[0m\u001b[1;33m)\u001b[0m\u001b[1;33m\u001b[0m\u001b[1;33m\u001b[0m\u001b[0m\n\u001b[0m\u001b[0;32m     62\u001b[0m \u001b[1;33m\u001b[0m\u001b[0m\n\u001b[0;32m     63\u001b[0m \u001b[1;33m\u001b[0m\u001b[0m\n",
      "\u001b[1;32mD:\\anaconda3\\lib\\site-packages\\requests\\sessions.py\u001b[0m in \u001b[0;36mrequest\u001b[1;34m(self, method, url, params, data, headers, cookies, files, auth, timeout, allow_redirects, proxies, hooks, stream, verify, cert, json)\u001b[0m\n\u001b[0;32m    514\u001b[0m             \u001b[0mhooks\u001b[0m\u001b[1;33m=\u001b[0m\u001b[0mhooks\u001b[0m\u001b[1;33m,\u001b[0m\u001b[1;33m\u001b[0m\u001b[1;33m\u001b[0m\u001b[0m\n\u001b[0;32m    515\u001b[0m         )\n\u001b[1;32m--> 516\u001b[1;33m         \u001b[0mprep\u001b[0m \u001b[1;33m=\u001b[0m \u001b[0mself\u001b[0m\u001b[1;33m.\u001b[0m\u001b[0mprepare_request\u001b[0m\u001b[1;33m(\u001b[0m\u001b[0mreq\u001b[0m\u001b[1;33m)\u001b[0m\u001b[1;33m\u001b[0m\u001b[1;33m\u001b[0m\u001b[0m\n\u001b[0m\u001b[0;32m    517\u001b[0m \u001b[1;33m\u001b[0m\u001b[0m\n\u001b[0;32m    518\u001b[0m         \u001b[0mproxies\u001b[0m \u001b[1;33m=\u001b[0m \u001b[0mproxies\u001b[0m \u001b[1;32mor\u001b[0m \u001b[1;33m{\u001b[0m\u001b[1;33m}\u001b[0m\u001b[1;33m\u001b[0m\u001b[1;33m\u001b[0m\u001b[0m\n",
      "\u001b[1;32mD:\\anaconda3\\lib\\site-packages\\requests\\sessions.py\u001b[0m in \u001b[0;36mprepare_request\u001b[1;34m(self, request)\u001b[0m\n\u001b[0;32m    447\u001b[0m \u001b[1;33m\u001b[0m\u001b[0m\n\u001b[0;32m    448\u001b[0m         \u001b[0mp\u001b[0m \u001b[1;33m=\u001b[0m \u001b[0mPreparedRequest\u001b[0m\u001b[1;33m(\u001b[0m\u001b[1;33m)\u001b[0m\u001b[1;33m\u001b[0m\u001b[1;33m\u001b[0m\u001b[0m\n\u001b[1;32m--> 449\u001b[1;33m         p.prepare(\n\u001b[0m\u001b[0;32m    450\u001b[0m             \u001b[0mmethod\u001b[0m\u001b[1;33m=\u001b[0m\u001b[0mrequest\u001b[0m\u001b[1;33m.\u001b[0m\u001b[0mmethod\u001b[0m\u001b[1;33m.\u001b[0m\u001b[0mupper\u001b[0m\u001b[1;33m(\u001b[0m\u001b[1;33m)\u001b[0m\u001b[1;33m,\u001b[0m\u001b[1;33m\u001b[0m\u001b[1;33m\u001b[0m\u001b[0m\n\u001b[0;32m    451\u001b[0m             \u001b[0murl\u001b[0m\u001b[1;33m=\u001b[0m\u001b[0mrequest\u001b[0m\u001b[1;33m.\u001b[0m\u001b[0murl\u001b[0m\u001b[1;33m,\u001b[0m\u001b[1;33m\u001b[0m\u001b[1;33m\u001b[0m\u001b[0m\n",
      "\u001b[1;32mD:\\anaconda3\\lib\\site-packages\\requests\\models.py\u001b[0m in \u001b[0;36mprepare\u001b[1;34m(self, method, url, headers, files, data, params, auth, cookies, hooks, json)\u001b[0m\n\u001b[0;32m    312\u001b[0m \u001b[1;33m\u001b[0m\u001b[0m\n\u001b[0;32m    313\u001b[0m         \u001b[0mself\u001b[0m\u001b[1;33m.\u001b[0m\u001b[0mprepare_method\u001b[0m\u001b[1;33m(\u001b[0m\u001b[0mmethod\u001b[0m\u001b[1;33m)\u001b[0m\u001b[1;33m\u001b[0m\u001b[1;33m\u001b[0m\u001b[0m\n\u001b[1;32m--> 314\u001b[1;33m         \u001b[0mself\u001b[0m\u001b[1;33m.\u001b[0m\u001b[0mprepare_url\u001b[0m\u001b[1;33m(\u001b[0m\u001b[0murl\u001b[0m\u001b[1;33m,\u001b[0m \u001b[0mparams\u001b[0m\u001b[1;33m)\u001b[0m\u001b[1;33m\u001b[0m\u001b[1;33m\u001b[0m\u001b[0m\n\u001b[0m\u001b[0;32m    315\u001b[0m         \u001b[0mself\u001b[0m\u001b[1;33m.\u001b[0m\u001b[0mprepare_headers\u001b[0m\u001b[1;33m(\u001b[0m\u001b[0mheaders\u001b[0m\u001b[1;33m)\u001b[0m\u001b[1;33m\u001b[0m\u001b[1;33m\u001b[0m\u001b[0m\n\u001b[0;32m    316\u001b[0m         \u001b[0mself\u001b[0m\u001b[1;33m.\u001b[0m\u001b[0mprepare_cookies\u001b[0m\u001b[1;33m(\u001b[0m\u001b[0mcookies\u001b[0m\u001b[1;33m)\u001b[0m\u001b[1;33m\u001b[0m\u001b[1;33m\u001b[0m\u001b[0m\n",
      "\u001b[1;32mD:\\anaconda3\\lib\\site-packages\\requests\\models.py\u001b[0m in \u001b[0;36mprepare_url\u001b[1;34m(self, url, params)\u001b[0m\n\u001b[0;32m    386\u001b[0m             \u001b[0merror\u001b[0m \u001b[1;33m=\u001b[0m \u001b[0merror\u001b[0m\u001b[1;33m.\u001b[0m\u001b[0mformat\u001b[0m\u001b[1;33m(\u001b[0m\u001b[0mto_native_string\u001b[0m\u001b[1;33m(\u001b[0m\u001b[0murl\u001b[0m\u001b[1;33m,\u001b[0m \u001b[1;34m'utf8'\u001b[0m\u001b[1;33m)\u001b[0m\u001b[1;33m)\u001b[0m\u001b[1;33m\u001b[0m\u001b[1;33m\u001b[0m\u001b[0m\n\u001b[0;32m    387\u001b[0m \u001b[1;33m\u001b[0m\u001b[0m\n\u001b[1;32m--> 388\u001b[1;33m             \u001b[1;32mraise\u001b[0m \u001b[0mMissingSchema\u001b[0m\u001b[1;33m(\u001b[0m\u001b[0merror\u001b[0m\u001b[1;33m)\u001b[0m\u001b[1;33m\u001b[0m\u001b[1;33m\u001b[0m\u001b[0m\n\u001b[0m\u001b[0;32m    389\u001b[0m \u001b[1;33m\u001b[0m\u001b[0m\n\u001b[0;32m    390\u001b[0m         \u001b[1;32mif\u001b[0m \u001b[1;32mnot\u001b[0m \u001b[0mhost\u001b[0m\u001b[1;33m:\u001b[0m\u001b[1;33m\u001b[0m\u001b[1;33m\u001b[0m\u001b[0m\n",
      "\u001b[1;31mMissingSchema\u001b[0m: Invalid URL 'www.urladdress.com': No schema supplied. Perhaps you meant http://www.urladdress.com?"
     ]
    }
   ],
   "source": [
    "url = \"www.urladdress.com\"\n",
    "\n",
    "response = requests.get(url)\n",
    "soup = BeautifulSoup(response.text, 'html.parser')"
   ]
  },
  {
   "cell_type": "markdown",
   "metadata": {},
   "source": [
    "#### 3.2 Przeszukiwanie kodu HTML"
   ]
  },
  {
   "cell_type": "code",
   "execution_count": null,
   "metadata": {},
   "outputs": [],
   "source": [
    "soup.find(\"div\")                     # znajdź pierwszy znacznik 'div' jaki napotkasz\n",
    "soup.find_all(\"a\")                   # znajdź wszystkie znaczniki 'a'\n",
    "soup.find_all(\"p\")[3].text           # spośród wszystkich znaczników 'p' weź ten o indeksie 3 i wyciągnij jego zawartość\n",
    "soup.find(\"span\").attrs[\"class\"]     # znajdź pierwszy znacznik 'span' i wyciągnij nazwę jego klasy"
   ]
  },
  {
   "cell_type": "markdown",
   "metadata": {},
   "source": [
    "## III Pobieranie cytatów - 4 zadania rozgrzewkowe\n",
    "### 1. Treść pojedynczego cytatu"
   ]
  },
  {
   "cell_type": "markdown",
   "metadata": {},
   "source": [
    "Wyciągnijmy treść pojedynczego cytatu.\n",
    "\n",
    "Aby wiedzieć czego dokładnie szukamy w kodzie HTML użyjemy devtoolsów przeglądarki."
   ]
  },
  {
   "cell_type": "code",
   "execution_count": 19,
   "metadata": {},
   "outputs": [],
   "source": [
    "quotes_url = \"https://quotes.toscrape.com/\"\n",
    "response = requests.get(quotes_url)\n",
    "soup = BeautifulSoup(response.text, 'html.parser')"
   ]
  },
  {
   "cell_type": "code",
   "execution_count": 22,
   "metadata": {},
   "outputs": [
    {
     "name": "stdout",
     "output_type": "stream",
     "text": [
      "<div class=\"quote\" itemscope=\"\" itemtype=\"http://schema.org/CreativeWork\">\n",
      "<span class=\"text\" itemprop=\"text\">“The world as we have created it is a process of our thinking. It cannot be changed without changing our thinking.”</span>\n",
      "<span>by <small class=\"author\" itemprop=\"author\">Albert Einstein</small>\n",
      "<a href=\"/author/Albert-Einstein\">(about)</a>\n",
      "</span>\n",
      "<div class=\"tags\">\n",
      "            Tags:\n",
      "            <meta class=\"keywords\" content=\"change,deep-thoughts,thinking,world\" itemprop=\"keywords\"/>\n",
      "<a class=\"tag\" href=\"/tag/change/page/1/\">change</a>\n",
      "<a class=\"tag\" href=\"/tag/deep-thoughts/page/1/\">deep-thoughts</a>\n",
      "<a class=\"tag\" href=\"/tag/thinking/page/1/\">thinking</a>\n",
      "<a class=\"tag\" href=\"/tag/world/page/1/\">world</a>\n",
      "</div>\n",
      "</div>\n"
     ]
    }
   ],
   "source": [
    "# Wyciągnijmy pierwszy (zerowy) cytat i zapiszmy go do zmiennej\n",
    "quote = soup.find_all(\"div\", class_=\"quote\")[0]\n",
    "print(quote)"
   ]
  },
  {
   "cell_type": "code",
   "execution_count": 24,
   "metadata": {},
   "outputs": [
    {
     "name": "stdout",
     "output_type": "stream",
     "text": [
      "“The world as we have created it is a process of our thinking. It cannot be changed without changing our thinking.”\n"
     ]
    }
   ],
   "source": [
    "# Wychodząc od tego cytatu szukajmy dalej - treść cytatu znajduje się w znaczniku 'span'\n",
    "text = quote.find(\"span\", class_=\"text\").text\n",
    "print(text)"
   ]
  },
  {
   "cell_type": "markdown",
   "metadata": {},
   "source": [
    "### 2. Lista list tagów"
   ]
  },
  {
   "cell_type": "markdown",
   "metadata": {},
   "source": [
    "Stwórzmy listę, której elementy będą odpowiadały kolejnym cytatom. Każdy element to lista tagów w danym cytacie"
   ]
  },
  {
   "cell_type": "code",
   "execution_count": 28,
   "metadata": {},
   "outputs": [],
   "source": [
    "nested_list_of_tags = []\n",
    "\n",
    "for quote in soup.find_all(\"div\", class_=\"quote\"):     # pętla po wszystkich cytatach\n",
    "    nested_list_of_tags.append([])                     # kazdy kolejny cytat to nowa wewnętrzna lista (lista tagów)\n",
    "    \n",
    "    for tag in quote.find_all(\"a\", class_=\"tag\"):      # pętla po wszystkich tag w obrębie cytatu\n",
    "        nested_list_of_tags[-1].append(tag.text)       # każdy tag danego cytatu dodajemy do wewnętrznej listy"
   ]
  },
  {
   "cell_type": "code",
   "execution_count": 30,
   "metadata": {},
   "outputs": [
    {
     "data": {
      "text/plain": [
       "[['change', 'deep-thoughts', 'thinking', 'world'],\n",
       " ['abilities', 'choices'],\n",
       " ['inspirational', 'life', 'live', 'miracle', 'miracles'],\n",
       " ['aliteracy', 'books', 'classic', 'humor'],\n",
       " ['be-yourself', 'inspirational'],\n",
       " ['adulthood', 'success', 'value'],\n",
       " ['life', 'love'],\n",
       " ['edison', 'failure', 'inspirational', 'paraphrased'],\n",
       " ['misattributed-eleanor-roosevelt'],\n",
       " ['humor', 'obvious', 'simile']]"
      ]
     },
     "execution_count": 30,
     "metadata": {},
     "output_type": "execute_result"
    }
   ],
   "source": [
    "nested_list_of_tags"
   ]
  },
  {
   "cell_type": "markdown",
   "metadata": {},
   "source": [
    "### 3. Lista list tagów z kilku podstron"
   ]
  },
  {
   "cell_type": "markdown",
   "metadata": {},
   "source": [
    "Cytaty znajdują się na kolejnych podstronach. Przejdźmy do następnej strony i pobierzmy kolejne. "
   ]
  },
  {
   "cell_type": "code",
   "execution_count": 31,
   "metadata": {},
   "outputs": [],
   "source": [
    "nested_list_of_tags = []\n",
    "\n",
    "for i in range(5):                                         # pętla po kilku podstronach\n",
    "    for quote in soup.find_all(\"div\", class_=\"quote\"):\n",
    "        nested_list_of_tags.append([])\n",
    "    \n",
    "        for tag in quote.find_all(\"a\", class_=\"tag\"):\n",
    "            nested_list_of_tags[-1].append(tag.text)\n",
    "        \n",
    "    # Zebraliśmy już wszystkie informacje na tej podstronie. Przejdźmy teraz do następnej\n",
    "    sub_url = soup.find(\"li\", class_=\"next\").find(\"a\").attrs[\"href\"]\n",
    "    next_page_url = quotes_url + sub_url\n",
    "    response = requests.get(next_page_url)\n",
    "    soup = BeautifulSoup(response.text, 'html.parser')"
   ]
  },
  {
   "cell_type": "code",
   "execution_count": 32,
   "metadata": {
    "scrolled": true
   },
   "outputs": [
    {
     "data": {
      "text/plain": [
       "[['change', 'deep-thoughts', 'thinking', 'world'],\n",
       " ['abilities', 'choices'],\n",
       " ['inspirational', 'life', 'live', 'miracle', 'miracles'],\n",
       " ['aliteracy', 'books', 'classic', 'humor'],\n",
       " ['be-yourself', 'inspirational'],\n",
       " ['adulthood', 'success', 'value'],\n",
       " ['life', 'love'],\n",
       " ['edison', 'failure', 'inspirational', 'paraphrased'],\n",
       " ['misattributed-eleanor-roosevelt'],\n",
       " ['humor', 'obvious', 'simile'],\n",
       " ['friends', 'heartbreak', 'inspirational', 'life', 'love', 'sisters'],\n",
       " ['courage', 'friends'],\n",
       " ['simplicity', 'understand'],\n",
       " ['love'],\n",
       " ['fantasy'],\n",
       " ['life', 'navigation'],\n",
       " ['activism',\n",
       "  'apathy',\n",
       "  'hate',\n",
       "  'indifference',\n",
       "  'inspirational',\n",
       "  'love',\n",
       "  'opposite',\n",
       "  'philosophy'],\n",
       " ['friendship',\n",
       "  'lack-of-friendship',\n",
       "  'lack-of-love',\n",
       "  'love',\n",
       "  'marriage',\n",
       "  'unhappy-marriage'],\n",
       " ['books', 'contentment', 'friends', 'friendship', 'life'],\n",
       " ['fate', 'life', 'misattributed-john-lennon', 'planning', 'plans'],\n",
       " ['love', 'poetry'],\n",
       " ['happiness'],\n",
       " ['attributed-no-source'],\n",
       " ['humor', 'religion'],\n",
       " ['humor'],\n",
       " ['comedy', 'life', 'yourself'],\n",
       " ['children', 'fairy-tales'],\n",
       " [],\n",
       " ['imagination'],\n",
       " ['music'],\n",
       " ['learning', 'reading', 'seuss'],\n",
       " ['dumbledore'],\n",
       " ['friendship'],\n",
       " ['misattributed-to-mother-teresa', 'paraphrased'],\n",
       " ['death', 'inspirational'],\n",
       " ['chocolate', 'food', 'humor'],\n",
       " ['misattributed-to-c-s-lewis', 'reading'],\n",
       " ['knowledge', 'learning', 'understanding', 'wisdom'],\n",
       " ['books', 'library'],\n",
       " ['inspirational'],\n",
       " ['read', 'readers', 'reading', 'reading-books'],\n",
       " ['books', 'inspirational', 'reading', 'tea'],\n",
       " [],\n",
       " ['girls', 'love'],\n",
       " ['life', 'simile'],\n",
       " ['love'],\n",
       " ['attributed-no-source'],\n",
       " ['hope', 'inspirational'],\n",
       " ['dumbledore'],\n",
       " ['love']]"
      ]
     },
     "execution_count": 32,
     "metadata": {},
     "output_type": "execute_result"
    }
   ],
   "source": [
    "nested_list_of_tags"
   ]
  },
  {
   "cell_type": "markdown",
   "metadata": {},
   "source": [
    "### 4. Więcej informacji o cytatach - tekst, autor oraz lista tagów"
   ]
  },
  {
   "cell_type": "markdown",
   "metadata": {},
   "source": [
    "Utwórzmy strukturę danych, w której przechowamy zarówno tekst jak i autora oraz tagi poszczególnych cytatów."
   ]
  },
  {
   "cell_type": "code",
   "execution_count": 33,
   "metadata": {},
   "outputs": [],
   "source": [
    "quotes_url = \"https://quotes.toscrape.com/\"\n",
    "response = requests.get(quotes_url)\n",
    "soup = BeautifulSoup(response.text, 'html.parser')\n",
    "\n",
    "quotes_list = []\n",
    "for i in range(5):\n",
    "    for quote in soup.find_all(\"div\", class_=\"quote\"):\n",
    "        \n",
    "        single_quote = dict()\n",
    "        \n",
    "        single_quote[\"text\"] = quote.find(\"span\", class_=\"text\").text.replace('“', '')\n",
    "        \n",
    "        single_quote[\"author\"] = quote.find(\"small\", class_=\"author\").text\n",
    "        \n",
    "        tags = quote.find_all(\"a\", \"tag\")\n",
    "        tags_texts = [t.text for t in tags]\n",
    "        single_quote[\"tags\"] = tags_texts\n",
    "        \n",
    "        quotes_list.append(single_quote)\n",
    "        \n",
    "    sub_url = soup.find(\"li\", class_=\"next\").find(\"a\").attrs[\"href\"]\n",
    "    next_page_url = quotes_url + sub_url\n",
    "    response = requests.get(next_page_url)\n",
    "    soup = BeautifulSoup(response.text, 'html.parser')"
   ]
  },
  {
   "cell_type": "code",
   "execution_count": 34,
   "metadata": {},
   "outputs": [
    {
     "data": {
      "text/plain": [
       "[{'text': 'The world as we have created it is a process of our thinking. It cannot be changed without changing our thinking.”',\n",
       "  'author': 'Albert Einstein',\n",
       "  'tags': ['change', 'deep-thoughts', 'thinking', 'world']},\n",
       " {'text': 'It is our choices, Harry, that show what we truly are, far more than our abilities.”',\n",
       "  'author': 'J.K. Rowling',\n",
       "  'tags': ['abilities', 'choices']},\n",
       " {'text': 'There are only two ways to live your life. One is as though nothing is a miracle. The other is as though everything is a miracle.”',\n",
       "  'author': 'Albert Einstein',\n",
       "  'tags': ['inspirational', 'life', 'live', 'miracle', 'miracles']},\n",
       " {'text': 'The person, be it gentleman or lady, who has not pleasure in a good novel, must be intolerably stupid.”',\n",
       "  'author': 'Jane Austen',\n",
       "  'tags': ['aliteracy', 'books', 'classic', 'humor']},\n",
       " {'text': \"Imperfection is beauty, madness is genius and it's better to be absolutely ridiculous than absolutely boring.”\",\n",
       "  'author': 'Marilyn Monroe',\n",
       "  'tags': ['be-yourself', 'inspirational']},\n",
       " {'text': 'Try not to become a man of success. Rather become a man of value.”',\n",
       "  'author': 'Albert Einstein',\n",
       "  'tags': ['adulthood', 'success', 'value']},\n",
       " {'text': 'It is better to be hated for what you are than to be loved for what you are not.”',\n",
       "  'author': 'André Gide',\n",
       "  'tags': ['life', 'love']},\n",
       " {'text': \"I have not failed. I've just found 10,000 ways that won't work.”\",\n",
       "  'author': 'Thomas A. Edison',\n",
       "  'tags': ['edison', 'failure', 'inspirational', 'paraphrased']},\n",
       " {'text': \"A woman is like a tea bag; you never know how strong it is until it's in hot water.”\",\n",
       "  'author': 'Eleanor Roosevelt',\n",
       "  'tags': ['misattributed-eleanor-roosevelt']},\n",
       " {'text': 'A day without sunshine is like, you know, night.”',\n",
       "  'author': 'Steve Martin',\n",
       "  'tags': ['humor', 'obvious', 'simile']},\n",
       " {'text': \"This life is what you make it. No matter what, you're going to mess up sometimes, it's a universal truth. But the good part is you get to decide how you're going to mess it up. Girls will be your friends - they'll act like it anyway. But just remember, some come, some go. The ones that stay with you through everything - they're your true best friends. Don't let go of them. Also remember, sisters make the best friends in the world. As for lovers, well, they'll come and go too. And baby, I hate to say it, most of them - actually pretty much all of them are going to break your heart, but you can't give up because if you give up, you'll never find your soulmate. You'll never find that half who makes you whole and that goes for everything. Just because you fail once, doesn't mean you're gonna fail at everything. Keep trying, hold on, and always, always, always believe in yourself, because if you don't, then who will, sweetie? So keep your head high, keep your chin up, and most importantly, keep smiling, because life's a beautiful thing and there's so much to smile about.”\",\n",
       "  'author': 'Marilyn Monroe',\n",
       "  'tags': ['friends',\n",
       "   'heartbreak',\n",
       "   'inspirational',\n",
       "   'life',\n",
       "   'love',\n",
       "   'sisters']},\n",
       " {'text': 'It takes a great deal of bravery to stand up to our enemies, but just as much to stand up to our friends.”',\n",
       "  'author': 'J.K. Rowling',\n",
       "  'tags': ['courage', 'friends']},\n",
       " {'text': \"If you can't explain it to a six year old, you don't understand it yourself.”\",\n",
       "  'author': 'Albert Einstein',\n",
       "  'tags': ['simplicity', 'understand']},\n",
       " {'text': \"You may not be her first, her last, or her only. She loved before she may love again. But if she loves you now, what else matters? She's not perfect—you aren't either, and the two of you may never be perfect together but if she can make you laugh, cause you to think twice, and admit to being human and making mistakes, hold onto her and give her the most you can. She may not be thinking about you every second of the day, but she will give you a part of her that she knows you can break—her heart. So don't hurt her, don't change her, don't analyze and don't expect more than she can give. Smile when she makes you happy, let her know when she makes you mad, and miss her when she's not there.”\",\n",
       "  'author': 'Bob Marley',\n",
       "  'tags': ['love']},\n",
       " {'text': 'I like nonsense, it wakes up the brain cells. Fantasy is a necessary ingredient in living.”',\n",
       "  'author': 'Dr. Seuss',\n",
       "  'tags': ['fantasy']},\n",
       " {'text': 'I may not have gone where I intended to go, but I think I have ended up where I needed to be.”',\n",
       "  'author': 'Douglas Adams',\n",
       "  'tags': ['life', 'navigation']},\n",
       " {'text': \"The opposite of love is not hate, it's indifference. The opposite of art is not ugliness, it's indifference. The opposite of faith is not heresy, it's indifference. And the opposite of life is not death, it's indifference.”\",\n",
       "  'author': 'Elie Wiesel',\n",
       "  'tags': ['activism',\n",
       "   'apathy',\n",
       "   'hate',\n",
       "   'indifference',\n",
       "   'inspirational',\n",
       "   'love',\n",
       "   'opposite',\n",
       "   'philosophy']},\n",
       " {'text': 'It is not a lack of love, but a lack of friendship that makes unhappy marriages.”',\n",
       "  'author': 'Friedrich Nietzsche',\n",
       "  'tags': ['friendship',\n",
       "   'lack-of-friendship',\n",
       "   'lack-of-love',\n",
       "   'love',\n",
       "   'marriage',\n",
       "   'unhappy-marriage']},\n",
       " {'text': 'Good friends, good books, and a sleepy conscience: this is the ideal life.”',\n",
       "  'author': 'Mark Twain',\n",
       "  'tags': ['books', 'contentment', 'friends', 'friendship', 'life']},\n",
       " {'text': 'Life is what happens to us while we are making other plans.”',\n",
       "  'author': 'Allen Saunders',\n",
       "  'tags': ['fate', 'life', 'misattributed-john-lennon', 'planning', 'plans']},\n",
       " {'text': 'I love you without knowing how, or when, or from where. I love you simply, without problems or pride: I love you in this way because I do not know any other way of loving but this, in which there is no I or you, so intimate that your hand upon my chest is my hand, so intimate that when I fall asleep your eyes close.”',\n",
       "  'author': 'Pablo Neruda',\n",
       "  'tags': ['love', 'poetry']},\n",
       " {'text': 'For every minute you are angry you lose sixty seconds of happiness.”',\n",
       "  'author': 'Ralph Waldo Emerson',\n",
       "  'tags': ['happiness']},\n",
       " {'text': 'If you judge people, you have no time to love them.”',\n",
       "  'author': 'Mother Teresa',\n",
       "  'tags': ['attributed-no-source']},\n",
       " {'text': 'Anyone who thinks sitting in church can make you a Christian must also think that sitting in a garage can make you a car.”',\n",
       "  'author': 'Garrison Keillor',\n",
       "  'tags': ['humor', 'religion']},\n",
       " {'text': 'Beauty is in the eye of the beholder and it may be necessary from time to time to give a stupid or misinformed beholder a black eye.”',\n",
       "  'author': 'Jim Henson',\n",
       "  'tags': ['humor']},\n",
       " {'text': 'Today you are You, that is truer than true. There is no one alive who is Youer than You.”',\n",
       "  'author': 'Dr. Seuss',\n",
       "  'tags': ['comedy', 'life', 'yourself']},\n",
       " {'text': 'If you want your children to be intelligent, read them fairy tales. If you want them to be more intelligent, read them more fairy tales.”',\n",
       "  'author': 'Albert Einstein',\n",
       "  'tags': ['children', 'fairy-tales']},\n",
       " {'text': 'It is impossible to live without failing at something, unless you live so cautiously that you might as well not have lived at all - in which case, you fail by default.”',\n",
       "  'author': 'J.K. Rowling',\n",
       "  'tags': []},\n",
       " {'text': 'Logic will get you from A to Z; imagination will get you everywhere.”',\n",
       "  'author': 'Albert Einstein',\n",
       "  'tags': ['imagination']},\n",
       " {'text': 'One good thing about music, when it hits you, you feel no pain.”',\n",
       "  'author': 'Bob Marley',\n",
       "  'tags': ['music']},\n",
       " {'text': \"The more that you read, the more things you will know. The more that you learn, the more places you'll go.”\",\n",
       "  'author': 'Dr. Seuss',\n",
       "  'tags': ['learning', 'reading', 'seuss']},\n",
       " {'text': 'Of course it is happening inside your head, Harry, but why on earth should that mean that it is not real?”',\n",
       "  'author': 'J.K. Rowling',\n",
       "  'tags': ['dumbledore']},\n",
       " {'text': 'The truth is, everyone is going to hurt you. You just got to find the ones worth suffering for.”',\n",
       "  'author': 'Bob Marley',\n",
       "  'tags': ['friendship']},\n",
       " {'text': 'Not all of us can do great things. But we can do small things with great love.”',\n",
       "  'author': 'Mother Teresa',\n",
       "  'tags': ['misattributed-to-mother-teresa', 'paraphrased']},\n",
       " {'text': 'To the well-organized mind, death is but the next great adventure.”',\n",
       "  'author': 'J.K. Rowling',\n",
       "  'tags': ['death', 'inspirational']},\n",
       " {'text': \"All you need is love. But a little chocolate now and then doesn't hurt.”\",\n",
       "  'author': 'Charles M. Schulz',\n",
       "  'tags': ['chocolate', 'food', 'humor']},\n",
       " {'text': \"We read to know we're not alone.”\",\n",
       "  'author': 'William Nicholson',\n",
       "  'tags': ['misattributed-to-c-s-lewis', 'reading']},\n",
       " {'text': 'Any fool can know. The point is to understand.”',\n",
       "  'author': 'Albert Einstein',\n",
       "  'tags': ['knowledge', 'learning', 'understanding', 'wisdom']},\n",
       " {'text': 'I have always imagined that Paradise will be a kind of library.”',\n",
       "  'author': 'Jorge Luis Borges',\n",
       "  'tags': ['books', 'library']},\n",
       " {'text': 'It is never too late to be what you might have been.”',\n",
       "  'author': 'George Eliot',\n",
       "  'tags': ['inspirational']},\n",
       " {'text': 'A reader lives a thousand lives before he dies, said Jojen. The man who never reads lives only one.”',\n",
       "  'author': 'George R.R. Martin',\n",
       "  'tags': ['read', 'readers', 'reading', 'reading-books']},\n",
       " {'text': 'You can never get a cup of tea large enough or a book long enough to suit me.”',\n",
       "  'author': 'C.S. Lewis',\n",
       "  'tags': ['books', 'inspirational', 'reading', 'tea']},\n",
       " {'text': 'You believe lies so you eventually learn to trust no one but yourself.”',\n",
       "  'author': 'Marilyn Monroe',\n",
       "  'tags': []},\n",
       " {'text': 'If you can make a woman laugh, you can make her do anything.”',\n",
       "  'author': 'Marilyn Monroe',\n",
       "  'tags': ['girls', 'love']},\n",
       " {'text': 'Life is like riding a bicycle. To keep your balance, you must keep moving.”',\n",
       "  'author': 'Albert Einstein',\n",
       "  'tags': ['life', 'simile']},\n",
       " {'text': 'The real lover is the man who can thrill you by kissing your forehead or smiling into your eyes or just staring into space.”',\n",
       "  'author': 'Marilyn Monroe',\n",
       "  'tags': ['love']},\n",
       " {'text': \"A wise girl kisses but doesn't love, listens but doesn't believe, and leaves before she is left.”\",\n",
       "  'author': 'Marilyn Monroe',\n",
       "  'tags': ['attributed-no-source']},\n",
       " {'text': 'Only in the darkness can you see the stars.”',\n",
       "  'author': 'Martin Luther King Jr.',\n",
       "  'tags': ['hope', 'inspirational']},\n",
       " {'text': 'It matters not what someone is born, but what they grow to be.”',\n",
       "  'author': 'J.K. Rowling',\n",
       "  'tags': ['dumbledore']},\n",
       " {'text': 'Love does not begin and end the way we seem to think it does. Love is a battle, love is a war; love is a growing up.”',\n",
       "  'author': 'James Baldwin',\n",
       "  'tags': ['love']}]"
      ]
     },
     "execution_count": 34,
     "metadata": {},
     "output_type": "execute_result"
    }
   ],
   "source": [
    "quotes_list"
   ]
  },
  {
   "cell_type": "code",
   "execution_count": 35,
   "metadata": {},
   "outputs": [
    {
     "data": {
      "text/plain": [
       "{'text': 'The world as we have created it is a process of our thinking. It cannot be changed without changing our thinking.”',\n",
       " 'author': 'Albert Einstein',\n",
       " 'tags': ['change', 'deep-thoughts', 'thinking', 'world']}"
      ]
     },
     "execution_count": 35,
     "metadata": {},
     "output_type": "execute_result"
    }
   ],
   "source": [
    "quotes_list[0]"
   ]
  },
  {
   "cell_type": "code",
   "execution_count": 36,
   "metadata": {},
   "outputs": [
    {
     "data": {
      "text/plain": [
       "{'text': 'I like nonsense, it wakes up the brain cells. Fantasy is a necessary ingredient in living.”',\n",
       " 'author': 'Dr. Seuss',\n",
       " 'tags': ['fantasy']}"
      ]
     },
     "execution_count": 36,
     "metadata": {},
     "output_type": "execute_result"
    }
   ],
   "source": [
    "quotes_list[14]"
   ]
  },
  {
   "cell_type": "markdown",
   "metadata": {},
   "source": [
    "## IV Zadania do samodzielnego wykonania"
   ]
  },
  {
   "cell_type": "markdown",
   "metadata": {},
   "source": [
    "### 1. Pobieranie informacji o cytatach z innej strony"
   ]
  },
  {
   "cell_type": "markdown",
   "metadata": {},
   "source": [
    "<img src=\"../img/quotes.png\" alt=\"Drawing\" style=\"width: 900px;\"/>"
   ]
  },
  {
   "cell_type": "markdown",
   "metadata": {},
   "source": [
    "Pierwsze zadanie będzie wyglądało analogicznie jak ostatni przykład, ale wykorzystamy inną stronę internetową. Zasada działania jest podobna, ale należy dostosować się do innej specyfiki kodu HTML.\n",
    "\n",
    "https://www.brainyquote.com/topics/page-quotes\n",
    "\n",
    "Postaraj się napisać wszystko od początku bez kopiowania kodu Pythona.\n",
    "\n",
    "Podpowiedzi:\n",
    "- jeśli jakiś element ma kilka klas, wystarczy podać jedną (przykład: `<div class=\"class_1 class_2 class_3\">` -> `soup.find(\"div\", class_=\"class_2\")`\n",
    "- czasami przechodzenie do kolejnej strony wymaga kreatywności, nie istnieje jeden sprawdzony sposób, który wykorzystujemy za każdym razem\n",
    "- jeśli wolisz wykonać zadanie wykorzystując IDE i skrypt `.py` nic nie stoi na przeszkodzie\n",
    "\n",
    "Czas: ok. 30 minut"
   ]
  },
  {
   "cell_type": "markdown",
   "metadata": {},
   "source": [
    "##### Zadanie rozwiąż poniżej"
   ]
  },
  {
   "cell_type": "code",
   "execution_count": 78,
   "metadata": {},
   "outputs": [],
   "source": [
    "quotes_url = \"https://www.brainyquote.com/topics/page-quotes\"\n",
    "response = requests.get(quotes_url)\n",
    "soup = BeautifulSoup(response.text, 'html.parser')"
   ]
  },
  {
   "cell_type": "code",
   "execution_count": 93,
   "metadata": {},
   "outputs": [
    {
     "name": "stdout",
     "output_type": "stream",
     "text": [
      "\n",
      "\n",
      "\n",
      "\n",
      "\n",
      "\n",
      "\n",
      "\n",
      "\n",
      "\n",
      "\n",
      "\n",
      "\n",
      "\n",
      "\n",
      "\n",
      "\n",
      "\n",
      "\n",
      "\n",
      "\n",
      "\n",
      "\n",
      "\n",
      "\n",
      "\n",
      "\n",
      "\n",
      "\n",
      "\n",
      "\n",
      "\n",
      "\n",
      "\n",
      "\n",
      "\n",
      "\n",
      "\n",
      "\n",
      "\n",
      "\n",
      "\n",
      "\n",
      "\n",
      "\n",
      "\n",
      "\n",
      "\n",
      "\n",
      "\n",
      "\n",
      "\n",
      "\n",
      "\n",
      "\n",
      "\n",
      "\n",
      "\n",
      "\n",
      "\n",
      "[{'text': 'The world is a book, and those who do not travel read only a page.', 'author': 'Saint Augustine', 'tags': ['Travel', 'World', 'Book']}, {'text': \"I've read the last page of the Bible. It's all going to turn out all right.\", 'author': 'Billy Graham', 'tags': ['Bible', 'Right', 'Turn']}, {'text': \"I always turn to the sports pages first, which records people's accomplishments. The front page has nothing but man's failures.\", 'author': 'Earl Warren', 'tags': ['Sports', 'Always', 'Man']}, {'text': \"We all have our likes and our dislikes. But... when we're doing news - when we're doing the front-page news, not the back page, not the op-ed pages, but when we're doing the daily news, covering politics - it is our duty to be sure that we do not permit our prejudices to show. That is simply basic journalism.\", 'author': 'Walter Cronkite', 'tags': ['Politics', 'Daily', 'Journalism']}, {'text': \"You might not write well every day, but you can always edit a bad page. You can't edit a blank page.\", 'author': 'Jodi Picoult', 'tags': ['Always', 'Day', 'Bad']}, {'text': 'If I want to knock a story off the front page, I just change my hairstyle.', 'author': 'Hillary Clinton', 'tags': ['Funny', 'Change', 'Story']}, {'text': \"This union has been divided in like a civil war - brother against brother - sister against sister. And I'm pulling it together. We've already seen evidence of that in New York, in Pennsylvania, in California. The first thing is we have to get on the same page. We have to be united in one cause.\", 'author': 'James P. Hoffa', 'tags': ['War', 'Together', 'New']}, {'text': 'Revision is the heart of writing. Every page I do is done over seven or eight times.', 'author': 'Patricia Reilly Giff', 'tags': ['Done', 'Heart', 'Writing']}, {'text': \"I live my life like an open book, even though it's open on the wrong page.\", 'author': 'Sebastian Horsley', 'tags': ['Life', 'My Life', 'Live']}, {'text': 'The prolonged slavery of women is the darkest page in human history.', 'author': 'Elizabeth Cady Stanton', 'tags': ['Women', 'History', 'Slavery']}, {'text': \"The next Bill Gates will not start an operating system. The next Larry Page won't start a search engine. The next Mark Zuckerberg won't start a social network company. If you are copying these people, you are not learning from them.\", 'author': 'Peter Thiel', 'tags': ['Learning', 'Start', 'Search']}, {'text': \"A journalist in Toronto named Shannon Boodram saw my Facebook page and told me I was 'strikingly beautiful.' She shot a YouTube video of me, and it made a hit, grabbing thousands of views. She said the camera loved me and that I should be a model. I had never thought about modeling - it just hadn't seemed possible.\", 'author': 'Winnie Harlow', 'tags': ['Beautiful', 'Me', 'YouTube']}, {'text': \"I'm writing a book. I've got the page numbers done.\", 'author': 'Steven Wright', 'tags': ['Funny', 'Done', 'Numbers']}, {'text': 'Whether you come back by page or by the big screen, Hogwarts will always be there to welcome you home.', 'author': 'J. K. Rowling', 'tags': ['Home', 'Always', 'Welcome']}, {'text': \"When you meet someone for the first time, that's not the whole book. That's just the first page.\", 'author': 'Brody Armstrong', 'tags': ['Time', 'First', 'First Time']}, {'text': \"Twitch is a platform. Switch it on, and you'll find thousands of channels of pure gameplay rolling around with people talking in the background. Dig a little deeper, and you'll also find people talking on camera, with sets built like an actual talk show, and schedules of events posted at the bottom of the web page.\", 'author': 'Rob Manuel', 'tags': ['Find', 'People', 'Talk']}, {'text': \"You know you've read a good book when you turn the last page and feel a little as if you have lost a friend.\", 'author': 'Paul Sweeney', 'tags': ['Good', 'Lost', 'Know']}, {'text': \"In many a piece of music, it's the pause or the rest that gives the piece its beauty and its shape. And I know I, as a writer, will often try to include a lot of empty space on the page so that the reader can complete my thoughts and sentences and so that her imagination has room to breathe.\", 'author': 'Pico Iyer', 'tags': ['Beauty', 'Space', 'Music']}, {'text': 'What a newspaper needs in its news, in its headlines, and on its editorial page is terseness, humor, descriptive power, satire, originality, good literary style, clever condensation, and accuracy, accuracy, accuracy!', 'author': 'Joseph Pulitzer', 'tags': ['Good', 'Power', 'Humor']}, {'text': 'No man is truly great who is great only in his lifetime. The test of greatness is the page of history.', 'author': 'William Hazlitt', 'tags': ['History', 'Great', 'Man']}, {'text': \"When I read Rush Limbaugh's 'The Way Things Ought to Be,' it was like a page-turning thriller to me. Every page was like some new revelation.\", 'author': 'Stephen Miller', 'tags': ['Me', 'Way', 'New']}, {'text': 'I enjoy the freedom of the blank page.', 'author': 'Irvine Welsh', 'tags': ['Freedom', 'Enjoy', 'Blank']}, {'text': 'The cinema is not a craft. It is an art. It does not mean teamwork. One is always alone on the set as before the blank page. And to be alone... means to ask questions. And to make films means to answer them.', 'author': 'Jean-Luc Godard', 'tags': ['Alone', 'Art', 'Always']}, {'text': \"The turning point was when I hit my 30th birthday. I thought, if really want to write, it's time to start. I picked up the book How to Write a Novel in 90 Days. The author said to just write three pages a day, and I figured, I can do this. I never got past Page 3 of that book.\", 'author': 'James Rollins', 'tags': ['Motivational', 'Birthday', 'Time']}, {'text': 'We cannot tear out a single page of our life, but we can throw the whole book in the fire.', 'author': 'George Sand', 'tags': ['Life', 'Fire', 'Cannot']}, {'text': 'Today I must write a paragraph or a page better than I did yesterday.', 'author': 'Ernest Gaines', 'tags': ['Today', 'Yesterday', 'Better']}, {'text': 'I wake up every morning at nine and grab for the morning paper. Then I look at the obituary page. If my name is not on it, I get up.', 'author': 'Benjamin Franklin', 'tags': ['Morning', 'Look', 'Name']}, {'text': 'Led Zeppelin would never have reformed if he or Jimmy Page were bald.', 'author': 'Paul Weller', 'tags': ['Never', 'Bald', 'He']}, {'text': \"There's a reason poets often say, 'Poetry saved my life,' for often the blank page is the only one listening to the soul's suffering, the only one registering the story completely, the only one receiving all softly and without condemnation.\", 'author': 'Clarissa Pinkola Estes', 'tags': ['Life', 'Poetry', 'Soul']}, {'text': 'The beauty of the innovation that flows from the open web is that no one has to ask for permission, get a credential, or win a Disrupt or Launch award to go prove their idea is worthy. They just... put up a page on the web, iterate, iterate, iterate... and eventually, a Facebook emerges.', 'author': 'John Battelle', 'tags': ['Beauty', 'Award', 'Win']}, {'text': 'One difference between poetry and lyrics is that lyrics sort of fade into the background. They fade on the page and live on the stage when set to music.', 'author': 'Stephen Sondheim', 'tags': ['Poetry', 'Music', 'Stage']}, {'text': 'A documentary film is a great way of helping people understand because, somehow, when one is able to see the people involved, it lends a certain immediacy and understanding that is hard to get on the page.', 'author': 'Lawrence Wright', 'tags': ['Great', 'Way', 'Understanding']}, {'text': \"Leadership is about stepping up when it's the appropriate time and then making sure everyone knows that we're all on the same page.\", 'author': 'Robert Kraft', 'tags': ['Leadership', 'Time', 'Everyone']}, {'text': \"Basically I wake up in the morning and I think everything's going to be great. I'm really kind of optimistic, and I look forward to a new day. I pick up 'The New York Times,' and I look at the front page and realize that once again I'm wrong. I start to fixate on stuff.\", 'author': 'Lewis Black', 'tags': ['Morning', 'Great', 'New Day']}, {'text': \"I feel I do my best work when it's all there on the page, and I feel that the character is very vivid as I read the script and I'm not having to create stuff and trying to cobble together something. If I have to do that, then I don't entirely trust what I'm doing.\", 'author': 'Guy Pearce', 'tags': ['Work', 'Best', 'Trust']}, {'text': \"Facts are facts, and fiction is fiction, and a lie doesn't become truth just because it appears on the front page of the newspaper.\", 'author': 'Scott Pruitt', 'tags': ['Truth', 'Lie', 'Facts']}, {'text': \"Micro humor is a joke that's contained in the writing: it's a punch line, it's a turn of phrase, it's something that you can see on the page, and no matter who's saying it, it is, in and of itself, a funny line.\", 'author': 'Susanna Fogel', 'tags': ['Funny', 'Humor', 'Matter']}, {'text': \"If everyone's on the same page, doesn't matter what race, what background, what religion you are, if everyone comes together like a good, solid football team, baseball team... that's how you win games. It's easy.\", 'author': 'Rob Gronkowski', 'tags': ['Good', 'Religion', 'Football']}, {'text': \"I'm pretty disciplined to keep the momentum of a story going by writing everyday, even if it's only a couple paragraphs or a page or two.\", 'author': 'James Rollins', 'tags': ['Keep', 'Momentum', 'Story']}, {'text': 'For me, a page of good prose is where one hears the rain and the noise of battle. It has the power to give grief or universality that lends it a youthful beauty.', 'author': 'John Cheever', 'tags': ['Beauty', 'Good', 'Power']}, {'text': 'I love old books. They tell you stories about their use. You can see where the fingerprints touched the pages as they held the book open. You can see how long they lingered on each page by the finger stains.', 'author': 'Jack Bowman', 'tags': ['Love', 'Long', 'See']}, {'text': \"If somebody is not on the same page with me humor wise, I can't give them that.\", 'author': 'Stephan Pastis', 'tags': ['Humor', 'Wise', 'Me']}, {'text': 'The New York Times editorial page is like a Ouija board that has only three answers, no matter what the question. The answers are: higher taxes, more restrictions on political speech and stricter gun control.', 'author': 'Ann Coulter', 'tags': ['Political', 'Gun', 'Control']}, {'text': 'A strong working relationship requires every participant to be on the same page.', 'author': 'Dinesh Paliwal', 'tags': ['Relationship', 'Strong', 'Same']}, {'text': 'Poetry and lyrics are very similar. Making words bounce off a page.', 'author': 'Taylor Swift', 'tags': ['Poetry', 'Words', 'Bounce']}, {'text': \"Governments do not care about your Facebook-assembled opinion. Incompetent politicians don't read your tweets; there are reasons for them being out of touch. Change does not come about for 'likes' on a page, though the ideas for it may start there.\", 'author': 'Hozier', 'tags': ['Change', 'Your', 'Start']}, {'text': 'The last copy of the Chicago Daily News I picked up had three crime stories on its front page. But by comparison to the gaudy days, this is small-time stuff. Chicago is as full of crooks as a saw with teeth, but the era when they ruled the city is gone forever.', 'author': 'John Gunther', 'tags': ['Daily', 'City', 'Crime']}, {'text': 'I have a giant baking book, so I close my eyes and pick a random page. Whatever it is, I try to bake it!', 'author': 'Nina Dobrev', 'tags': ['Eyes', 'Baking', 'Random']}, {'text': \"I totally hate when somebody takes a classic and desecrates it. I like Jimmy Page and P. Diddy, but what they did to 'Kashmir' was a debacle.\", 'author': 'Chuck D', 'tags': ['Hate', 'Kashmir', 'Classic']}, {'text': \"There's always been some concern that adult subject matter should be quarantined from a page that attracts children. Unlike late at night, when 'South Park' and 'Colbert' are on, impressionable minds are wide awake when the newspaper arrives.\", 'author': 'Garry Trudeau', 'tags': ['Always', 'Night', 'Matter']}, {'text': \"My older brother and I read all the time. My father read, but only things related to religion. One year, he did read a set of stories that was called something like '365 Stories' out loud to us. They followed a family for the year, a page a day. They were about kids with simple problems - like a wheel coming off their bicycle.\", 'author': 'Amy Tan', 'tags': ['Family', 'Time', 'Religion']}, {'text': \"The average human attention span was 12 seconds in 2000 and 8 seconds in 2013. A drop of 33%. The scary part is that the attention span of a goldfish was 9 seconds, almost 13% more than us humans. That's why it's getting tougher by the day to get people to turn the page. Maybe we writers ought to try writing for goldfish!\", 'author': 'Ashwin Sanghi', 'tags': ['Day', 'Try', 'People']}, {'text': \"I have always loved contemporary dance, but it has always been a bit of a mystery to me. But choreography is very much like what I do when you are putting characters in frame on the page. It's so impressive what they do with their bodies. It's like painting: an abstraction.\", 'author': 'Michael Leunig', 'tags': ['Always', 'Me', 'Painting']}, {'text': \"I always say fitness is the first step to greatness. And I try to encourage my fans to be on the same page as that. Because fitness is the first step to setting a habit that you necessarily don't want to do but are still committed to doing every single day. And so I think that's why I always, always try to get a workout in.\", 'author': 'Jake Paul', 'tags': ['Fitness', 'Always', 'Day']}, {'text': \"When I was 13, I went on 'Britain's Got Talent.' I auditioned. I sang a cover of a song called 'White Blank Page' by Mumford & Sons.\", 'author': 'Lewis Capaldi', 'tags': ['Talent', 'Song', 'White']}, {'text': \"There's lots of sins in this life. We're all sinners. If you don't believe in God and you don't believe in the scriptures, then we are on a different page.\", 'author': 'Tyson Fury', 'tags': ['Life', 'God', 'Believe']}, {'text': 'The hardest thing is to write about people. First and foremost, you have to encounter their humanity. That is the only way you can make them live as characters on the page.', 'author': 'Philip Kerr', 'tags': ['Humanity', 'Way', 'People']}, {'text': \"Nobody reads a mystery to get to the middle. They read it to get to the end. If it's a letdown, they won't buy anymore. The first page sells that book. The last page sells your next book.\", 'author': 'Mickey Spillane', 'tags': ['Your', 'Mystery', 'Nobody']}, {'text': \"Anyone with a computer and a design program can create a page layout. But unless you're trained in design, it won't look very good and it won't communicate very well.\", 'author': 'John Maeda', 'tags': ['Design', 'Good', 'Look']}, {'text': \"The Arc de Triomphe, the Eiffel Tower. They're monumental. They're straight out of Page 52 in your school history book.\", 'author': 'Billy Crystal', 'tags': ['History', 'Your', 'School']}]\n"
     ]
    }
   ],
   "source": [
    "quotes_list = []\n",
    "for i in range(17):\n",
    "    for quote_box in soup.find_all(\"div\", class_=\"m-brick\"):\n",
    "    # for quote in soup.find_all(\"a\", class_=\"b-qt\"):\n",
    "\n",
    "        single_quote = dict()\n",
    "        # print()\n",
    "        \n",
    "        single_quote_text = quote_box.find(\"a\", class_=\"b-qt\").text\n",
    "        # print(single_quote_text)\n",
    "        single_quote[\"text\"] = single_quote_text\n",
    "        \n",
    "        single_quote_author = quote_box.find(\"a\", title=\"view author\").text\n",
    "        # print(single_quote_author)\n",
    "        single_quote[\"author\"] = single_quote_author\n",
    "        \n",
    "        tag_elems = [elem.text for elem in quote_box.find(\"div\", class_=\"kw-box\").find_all(\"a\")]\n",
    "        # print(tag_elems)\n",
    "        single_quote[\"tags\"] = tag_elems\n",
    "        \n",
    "        quotes_list.append(single_quote)\n",
    "\n",
    "        \n",
    "    sub_url = soup.find(\"li\", class_=\"next\").find(\"a\").attrs[\"href\"]\n",
    "    next_page_url = quotes_url + sub_url\n",
    "    response = requests.get(next_page_url)\n",
    "    soup = BeautifulSoup(response.text, 'html.parser')\n",
    "        \n",
    "     \n",
    "        \n",
    "\n",
    "\n",
    "# print(quotes_list)\n",
    "        \n",
    "                \n",
    "        #single_quote_author = quote_box.find(\"a\", class_=\"bg-aut\").text\n",
    "        #single_quote[\"author\"] = \n",
    "        #print(quote_box.find(\"a\", class_=\"bg-aut\").text)\n",
    "        # print(quote_box.find_all(\"a\"))\n"
   ]
  },
  {
   "cell_type": "code",
   "execution_count": null,
   "metadata": {},
   "outputs": [],
   "source": []
  },
  {
   "cell_type": "markdown",
   "metadata": {},
   "source": [
    "### 2. Pobieranie danych o książkach"
   ]
  },
  {
   "cell_type": "markdown",
   "metadata": {},
   "source": [
    "<img src=\"../img/books.png\" alt=\"Drawing\" style=\"width: 800px;\"/>"
   ]
  },
  {
   "cell_type": "markdown",
   "metadata": {},
   "source": [
    "Ze strony https://books.toscrape.com/ pobierz dane o książkach z kategorii \"Philosphy\", \"Music\" oraz \"Autobiography\". Utwórz strukturę danych wyglądającą w następujący sposób:\n",
    "\n",
    "`{\n",
    "\"Philosophy\": [{\"title\": \"Sophie's World\", \"price\": 15.94, \"rating\": 5, \"UPC\": \"6be3beb0793a53e7\"},\n",
    "                {...},\n",
    "                 ...\n",
    "                {...}\n",
    "              ],              \n",
    "\"Music\": [ ...... ],\n",
    "\"Autobiography\": [ ..... ]\n",
    "}\n",
    "`\n",
    "\n",
    "Uwagi: \n",
    "\n",
    "- wyciągnięcie parametrów \"rating\" oraz \"UPC\" może być trudniejsze niż dwóch pierwszych. Spróbuj poeksperymentować w ramach tego co już wiesz. Jeśli się nie uda - nie szkodzi. Nauka web scrapingu wymaga praktyki, biegłość przyjdzie z czasem\n",
    "- jeśli chcesz, możesz dowolnie zmodyfikować treść zadania. Możesz wyciągnąć więcej informacji lub inne niż te, które zostały zasugerowane\n",
    "- tak jak poprzednie zadanie, również to możesz wykonać korzystając z dowolnego IDE\n",
    "\n",
    "Czas: ok. 35 minut"
   ]
  },
  {
   "cell_type": "markdown",
   "metadata": {},
   "source": [
    "##### Zadanie rozwiąż poniżej"
   ]
  },
  {
   "cell_type": "code",
   "execution_count": null,
   "metadata": {},
   "outputs": [],
   "source": [
    "# ..."
   ]
  },
  {
   "cell_type": "markdown",
   "metadata": {},
   "source": [
    "## V Projekt - scraping ofert na portalu otomoto"
   ]
  },
  {
   "cell_type": "markdown",
   "metadata": {},
   "source": [
    "Napisz scraper który pobierze oferty samochodów z portalu https://www.otomoto.pl/. Pobierz dla każdego samochodu dowolne informacje jakie Cię interesują, np. cenę, markę samochodu, rodzaj paliwa itp. Otrzymane wyniki zapisz w postaci pliku JSON, csv, txt lub dowolnym innym jaki jest dla Ciebie wygodny. Możesz skorzystać z biblioteki `pandas` i klasy `DataFrame` jeśli ją znasz.\n",
    "\n",
    "Uwagi: \n",
    "- przy dużej liczbie requestów w krótkim czasie Twój adres IP może zostać tymczasowo zablokowany. Warto rozważyć stopowanie kodu na ułamek sekundy co jakiś czas i oszczędne requestowanie podczas testów\n",
    "- czasami element do którego chcemy się dostać jest zbyt głęboko zagnieżdżony w kodzie HTML. Spróbuj wtedy najpierw wyciągnąć element mniej zagnieżdżony, i następnie przeszukuj go dalej\n",
    "\n",
    "Czas: ok. 60 minut"
   ]
  },
  {
   "cell_type": "code",
   "execution_count": null,
   "metadata": {},
   "outputs": [],
   "source": []
  }
 ],
 "metadata": {
  "kernelspec": {
   "display_name": "Python 3",
   "language": "python",
   "name": "python3"
  },
  "language_info": {
   "codemirror_mode": {
    "name": "ipython",
    "version": 3
   },
   "file_extension": ".py",
   "mimetype": "text/x-python",
   "name": "python",
   "nbconvert_exporter": "python",
   "pygments_lexer": "ipython3",
   "version": "3.8.5"
  }
 },
 "nbformat": 4,
 "nbformat_minor": 4
}
